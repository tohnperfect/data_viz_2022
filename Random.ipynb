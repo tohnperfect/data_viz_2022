{
  "nbformat": 4,
  "nbformat_minor": 0,
  "metadata": {
    "colab": {
      "name": "Random.ipynb",
      "provenance": [],
      "collapsed_sections": [],
      "authorship_tag": "ABX9TyMCWP5n5XwOH+Ih04DsRScF",
      "include_colab_link": true
    },
    "kernelspec": {
      "name": "python3",
      "display_name": "Python 3"
    },
    "language_info": {
      "name": "python"
    }
  },
  "cells": [
    {
      "cell_type": "markdown",
      "metadata": {
        "id": "view-in-github",
        "colab_type": "text"
      },
      "source": [
        "<a href=\"https://colab.research.google.com/github/tohnperfect/data_viz_2022/blob/main/Random.ipynb\" target=\"_parent\"><img src=\"https://colab.research.google.com/assets/colab-badge.svg\" alt=\"Open In Colab\"/></a>"
      ]
    },
    {
      "cell_type": "code",
      "source": [
        "import numpy as np"
      ],
      "metadata": {
        "id": "qJvNZ1lrMqIz"
      },
      "execution_count": 1,
      "outputs": []
    },
    {
      "cell_type": "code",
      "execution_count": 9,
      "metadata": {
        "id": "T8erkIG1Jv8_",
        "colab": {
          "base_uri": "https://localhost:8080/"
        },
        "outputId": "5edeebae-4014-444c-c4e5-31d258fa88d6"
      },
      "outputs": [
        {
          "output_type": "execute_result",
          "data": {
            "text/plain": [
              "9"
            ]
          },
          "metadata": {},
          "execution_count": 9
        }
      ],
      "source": [
        "np.random.randint(1000) % 21"
      ]
    },
    {
      "cell_type": "code",
      "source": [
        "def random_group(id):\n",
        "    id = id.replace('-','')\n",
        "    id = int(id)\n",
        "    group = id % 22\n",
        "    return group"
      ],
      "metadata": {
        "id": "Ux3aVbSwLucB"
      },
      "execution_count": 37,
      "outputs": []
    },
    {
      "cell_type": "code",
      "source": [
        "random_group('613020038-0')"
      ],
      "metadata": {
        "colab": {
          "base_uri": "https://localhost:8080/"
        },
        "id": "kLGnLRjBN8OP",
        "outputId": "d451e535-4002-4ab5-97a2-3ffa7cadac37"
      },
      "execution_count": 11,
      "outputs": [
        {
          "output_type": "execute_result",
          "data": {
            "text/plain": [
              "7"
            ]
          },
          "metadata": {},
          "execution_count": 11
        }
      ]
    },
    {
      "cell_type": "code",
      "source": [
        "import pandas as pd"
      ],
      "metadata": {
        "id": "NttZHKktOCJR"
      },
      "execution_count": 12,
      "outputs": []
    },
    {
      "cell_type": "code",
      "source": [
        "id_pd = pd.read_csv('/content/id')\n",
        "id_pd"
      ],
      "metadata": {
        "colab": {
          "base_uri": "https://localhost:8080/",
          "height": 427
        },
        "id": "odXzBE8ZO8bR",
        "outputId": "5346cec4-885c-4c5b-f226-0bf72e59c2ca"
      },
      "execution_count": 17,
      "outputs": [
        {
          "output_type": "execute_result",
          "data": {
            "text/html": [
              "\n",
              "  <div id=\"df-6cc5e028-16d0-48e9-96ca-5b73a09bc9a3\">\n",
              "    <div class=\"colab-df-container\">\n",
              "      <div>\n",
              "<style scoped>\n",
              "    .dataframe tbody tr th:only-of-type {\n",
              "        vertical-align: middle;\n",
              "    }\n",
              "\n",
              "    .dataframe tbody tr th {\n",
              "        vertical-align: top;\n",
              "    }\n",
              "\n",
              "    .dataframe thead th {\n",
              "        text-align: right;\n",
              "    }\n",
              "</style>\n",
              "<table border=\"1\" class=\"dataframe\">\n",
              "  <thead>\n",
              "    <tr style=\"text-align: right;\">\n",
              "      <th></th>\n",
              "      <th>ID</th>\n",
              "    </tr>\n",
              "  </thead>\n",
              "  <tbody>\n",
              "    <tr>\n",
              "      <th>0</th>\n",
              "      <td>613020038-0</td>\n",
              "    </tr>\n",
              "    <tr>\n",
              "      <th>1</th>\n",
              "      <td>613020566-5</td>\n",
              "    </tr>\n",
              "    <tr>\n",
              "      <th>2</th>\n",
              "      <td>613020610-8</td>\n",
              "    </tr>\n",
              "    <tr>\n",
              "      <th>3</th>\n",
              "      <td>613020615-8</td>\n",
              "    </tr>\n",
              "    <tr>\n",
              "      <th>4</th>\n",
              "      <td>623020031-5</td>\n",
              "    </tr>\n",
              "    <tr>\n",
              "      <th>...</th>\n",
              "      <td>...</td>\n",
              "    </tr>\n",
              "    <tr>\n",
              "      <th>69</th>\n",
              "      <td>623021052-2</td>\n",
              "    </tr>\n",
              "    <tr>\n",
              "      <th>70</th>\n",
              "      <td>623021054-8</td>\n",
              "    </tr>\n",
              "    <tr>\n",
              "      <th>71</th>\n",
              "      <td>623021055-6</td>\n",
              "    </tr>\n",
              "    <tr>\n",
              "      <th>72</th>\n",
              "      <td>623021058-0</td>\n",
              "    </tr>\n",
              "    <tr>\n",
              "      <th>73</th>\n",
              "      <td>603021840-5</td>\n",
              "    </tr>\n",
              "  </tbody>\n",
              "</table>\n",
              "<p>74 rows × 1 columns</p>\n",
              "</div>\n",
              "      <button class=\"colab-df-convert\" onclick=\"convertToInteractive('df-6cc5e028-16d0-48e9-96ca-5b73a09bc9a3')\"\n",
              "              title=\"Convert this dataframe to an interactive table.\"\n",
              "              style=\"display:none;\">\n",
              "        \n",
              "  <svg xmlns=\"http://www.w3.org/2000/svg\" height=\"24px\"viewBox=\"0 0 24 24\"\n",
              "       width=\"24px\">\n",
              "    <path d=\"M0 0h24v24H0V0z\" fill=\"none\"/>\n",
              "    <path d=\"M18.56 5.44l.94 2.06.94-2.06 2.06-.94-2.06-.94-.94-2.06-.94 2.06-2.06.94zm-11 1L8.5 8.5l.94-2.06 2.06-.94-2.06-.94L8.5 2.5l-.94 2.06-2.06.94zm10 10l.94 2.06.94-2.06 2.06-.94-2.06-.94-.94-2.06-.94 2.06-2.06.94z\"/><path d=\"M17.41 7.96l-1.37-1.37c-.4-.4-.92-.59-1.43-.59-.52 0-1.04.2-1.43.59L10.3 9.45l-7.72 7.72c-.78.78-.78 2.05 0 2.83L4 21.41c.39.39.9.59 1.41.59.51 0 1.02-.2 1.41-.59l7.78-7.78 2.81-2.81c.8-.78.8-2.07 0-2.86zM5.41 20L4 18.59l7.72-7.72 1.47 1.35L5.41 20z\"/>\n",
              "  </svg>\n",
              "      </button>\n",
              "      \n",
              "  <style>\n",
              "    .colab-df-container {\n",
              "      display:flex;\n",
              "      flex-wrap:wrap;\n",
              "      gap: 12px;\n",
              "    }\n",
              "\n",
              "    .colab-df-convert {\n",
              "      background-color: #E8F0FE;\n",
              "      border: none;\n",
              "      border-radius: 50%;\n",
              "      cursor: pointer;\n",
              "      display: none;\n",
              "      fill: #1967D2;\n",
              "      height: 32px;\n",
              "      padding: 0 0 0 0;\n",
              "      width: 32px;\n",
              "    }\n",
              "\n",
              "    .colab-df-convert:hover {\n",
              "      background-color: #E2EBFA;\n",
              "      box-shadow: 0px 1px 2px rgba(60, 64, 67, 0.3), 0px 1px 3px 1px rgba(60, 64, 67, 0.15);\n",
              "      fill: #174EA6;\n",
              "    }\n",
              "\n",
              "    [theme=dark] .colab-df-convert {\n",
              "      background-color: #3B4455;\n",
              "      fill: #D2E3FC;\n",
              "    }\n",
              "\n",
              "    [theme=dark] .colab-df-convert:hover {\n",
              "      background-color: #434B5C;\n",
              "      box-shadow: 0px 1px 3px 1px rgba(0, 0, 0, 0.15);\n",
              "      filter: drop-shadow(0px 1px 2px rgba(0, 0, 0, 0.3));\n",
              "      fill: #FFFFFF;\n",
              "    }\n",
              "  </style>\n",
              "\n",
              "      <script>\n",
              "        const buttonEl =\n",
              "          document.querySelector('#df-6cc5e028-16d0-48e9-96ca-5b73a09bc9a3 button.colab-df-convert');\n",
              "        buttonEl.style.display =\n",
              "          google.colab.kernel.accessAllowed ? 'block' : 'none';\n",
              "\n",
              "        async function convertToInteractive(key) {\n",
              "          const element = document.querySelector('#df-6cc5e028-16d0-48e9-96ca-5b73a09bc9a3');\n",
              "          const dataTable =\n",
              "            await google.colab.kernel.invokeFunction('convertToInteractive',\n",
              "                                                     [key], {});\n",
              "          if (!dataTable) return;\n",
              "\n",
              "          const docLinkHtml = 'Like what you see? Visit the ' +\n",
              "            '<a target=\"_blank\" href=https://colab.research.google.com/notebooks/data_table.ipynb>data table notebook</a>'\n",
              "            + ' to learn more about interactive tables.';\n",
              "          element.innerHTML = '';\n",
              "          dataTable['output_type'] = 'display_data';\n",
              "          await google.colab.output.renderOutput(dataTable, element);\n",
              "          const docLink = document.createElement('div');\n",
              "          docLink.innerHTML = docLinkHtml;\n",
              "          element.appendChild(docLink);\n",
              "        }\n",
              "      </script>\n",
              "    </div>\n",
              "  </div>\n",
              "  "
            ],
            "text/plain": [
              "             ID\n",
              "0   613020038-0\n",
              "1   613020566-5\n",
              "2   613020610-8\n",
              "3   613020615-8\n",
              "4   623020031-5\n",
              "..          ...\n",
              "69  623021052-2\n",
              "70  623021054-8\n",
              "71  623021055-6\n",
              "72  623021058-0\n",
              "73  603021840-5\n",
              "\n",
              "[74 rows x 1 columns]"
            ]
          },
          "metadata": {},
          "execution_count": 17
        }
      ]
    },
    {
      "cell_type": "code",
      "source": [
        "!pip install random-word"
      ],
      "metadata": {
        "colab": {
          "base_uri": "https://localhost:8080/"
        },
        "id": "vVOCun9XPE5A",
        "outputId": "322eb694-84ef-4915-95d4-6dfe69979209"
      },
      "execution_count": 18,
      "outputs": [
        {
          "output_type": "stream",
          "name": "stdout",
          "text": [
            "Collecting random-word\n",
            "  Downloading Random_Word-1.0.7-py3-none-any.whl (8.0 kB)\n",
            "Collecting nose\n",
            "  Downloading nose-1.3.7-py3-none-any.whl (154 kB)\n",
            "\u001b[K     |████████████████████████████████| 154 kB 5.0 MB/s \n",
            "\u001b[?25hRequirement already satisfied: requests in /usr/local/lib/python3.7/dist-packages (from random-word) (2.23.0)\n",
            "Requirement already satisfied: certifi>=2017.4.17 in /usr/local/lib/python3.7/dist-packages (from requests->random-word) (2021.10.8)\n",
            "Requirement already satisfied: urllib3!=1.25.0,!=1.25.1,<1.26,>=1.21.1 in /usr/local/lib/python3.7/dist-packages (from requests->random-word) (1.24.3)\n",
            "Requirement already satisfied: idna<3,>=2.5 in /usr/local/lib/python3.7/dist-packages (from requests->random-word) (2.10)\n",
            "Requirement already satisfied: chardet<4,>=3.0.2 in /usr/local/lib/python3.7/dist-packages (from requests->random-word) (3.0.4)\n",
            "Installing collected packages: nose, random-word\n",
            "Successfully installed nose-1.3.7 random-word-1.0.7\n"
          ]
        }
      ]
    },
    {
      "cell_type": "code",
      "source": [
        "from random_word import RandomWords"
      ],
      "metadata": {
        "id": "yCtDvGUURC_-"
      },
      "execution_count": 19,
      "outputs": []
    },
    {
      "cell_type": "code",
      "source": [
        "r = RandomWords()"
      ],
      "metadata": {
        "id": "NRtB1oyLRH9C"
      },
      "execution_count": 20,
      "outputs": []
    },
    {
      "cell_type": "code",
      "source": [
        "r.get_random_word()"
      ],
      "metadata": {
        "colab": {
          "base_uri": "https://localhost:8080/",
          "height": 37
        },
        "id": "dGAzxZZmRLUr",
        "outputId": "3dbfe45b-c0dd-4f7b-dfd8-7ee533f604d9"
      },
      "execution_count": 24,
      "outputs": [
        {
          "output_type": "execute_result",
          "data": {
            "application/vnd.google.colaboratory.intrinsic+json": {
              "type": "string"
            },
            "text/plain": [
              "'tyrosines'"
            ]
          },
          "metadata": {},
          "execution_count": 24
        }
      ]
    },
    {
      "cell_type": "code",
      "source": [
        "groups = [[],[],[],[],[],[],[],[],[],[],\n",
        "         [],[],[],[],[],[],[],[],[],[],\n",
        "         [],[]]\n",
        "leftover = []\n",
        "for id in id_pd['ID']:\n",
        "    groupid = random_group(id)\n",
        "    if len(groups[groupid]) < 3:\n",
        "        groups[groupid].append(id)\n",
        "    else:\n",
        "        leftover.append(id)"
      ],
      "metadata": {
        "id": "9r2AssdqRNyE"
      },
      "execution_count": 59,
      "outputs": []
    },
    {
      "cell_type": "code",
      "source": [
        "groups"
      ],
      "metadata": {
        "colab": {
          "base_uri": "https://localhost:8080/"
        },
        "id": "vt6iNz5lV9Rz",
        "outputId": "482abe06-36cf-4027-a345-f21fc161145e"
      },
      "execution_count": 60,
      "outputs": [
        {
          "output_type": "execute_result",
          "data": {
            "text/plain": [
              "[['623020545-4', '623021051-4', '623021058-0'],\n",
              " ['613020566-5', '623020532-3', '623020732-5'],\n",
              " ['623020541-2'],\n",
              " ['623020455-5', '623021007-7'],\n",
              " ['613020610-8', '623020042-0', '623020449-0'],\n",
              " ['623020451-3', '623020519-5', '623021040-9'],\n",
              " ['623020521-8', '623020528-4', '623020543-8'],\n",
              " ['623020515-3', '623021043-3'],\n",
              " ['623020761-8', '623021052-2'],\n",
              " ['623020031-5', '623020453-9', '623020511-1'],\n",
              " ['613020615-8', '623020520-0', '623020542-0'],\n",
              " ['623020434-3', '623020517-9', '623020539-9'],\n",
              " ['623020526-8', '623020760-0', '623021010-8'],\n",
              " ['623020513-7', '623020535-7', '623020735-9'],\n",
              " ['623020544-6', '623021050-6'],\n",
              " ['623020516-1', '623020731-7', '623021000-1'],\n",
              " ['623020525-0', '623020540-4', '623020547-0'],\n",
              " ['623021006-9'],\n",
              " ['613020038-0', '623020041-2', '623020765-0'],\n",
              " ['623020435-1', '623020518-7', '623021002-7'],\n",
              " ['623020527-6', '623021055-6'],\n",
              " ['623020514-5', '623020536-5', '623021005-1']]"
            ]
          },
          "metadata": {},
          "execution_count": 60
        }
      ]
    },
    {
      "cell_type": "code",
      "source": [
        "leftover"
      ],
      "metadata": {
        "colab": {
          "base_uri": "https://localhost:8080/"
        },
        "id": "TuUwwowiV9KJ",
        "outputId": "d0933473-d558-45d5-98cf-23a4d083a2e7"
      },
      "execution_count": 61,
      "outputs": [
        {
          "output_type": "execute_result",
          "data": {
            "text/plain": [
              "['623020762-6',\n",
              " '623020764-2',\n",
              " '623020995-3',\n",
              " '623020999-5',\n",
              " '623021001-9',\n",
              " '623021008-5',\n",
              " '623021009-3',\n",
              " '623021041-7',\n",
              " '623021042-5',\n",
              " '623021044-1',\n",
              " '623021045-9',\n",
              " '623021046-7',\n",
              " '623021047-5',\n",
              " '623021048-3',\n",
              " '623021049-1',\n",
              " '623021054-8',\n",
              " '603021840-5']"
            ]
          },
          "metadata": {},
          "execution_count": 61
        }
      ]
    },
    {
      "cell_type": "code",
      "source": [
        "for g in groups:\n",
        "    if len(g) < 2:\n",
        "        g.append(leftover.pop())"
      ],
      "metadata": {
        "id": "qd6uSbdiTRAw"
      },
      "execution_count": 62,
      "outputs": []
    },
    {
      "cell_type": "code",
      "source": [
        "groups"
      ],
      "metadata": {
        "colab": {
          "base_uri": "https://localhost:8080/"
        },
        "id": "c1P3kAN5WH1y",
        "outputId": "b1635abc-d16d-4e8c-c1b2-804a7a099af0"
      },
      "execution_count": 63,
      "outputs": [
        {
          "output_type": "execute_result",
          "data": {
            "text/plain": [
              "[['623020545-4', '623021051-4', '623021058-0'],\n",
              " ['613020566-5', '623020532-3', '623020732-5'],\n",
              " ['623020541-2', '603021840-5'],\n",
              " ['623020455-5', '623021007-7'],\n",
              " ['613020610-8', '623020042-0', '623020449-0'],\n",
              " ['623020451-3', '623020519-5', '623021040-9'],\n",
              " ['623020521-8', '623020528-4', '623020543-8'],\n",
              " ['623020515-3', '623021043-3'],\n",
              " ['623020761-8', '623021052-2'],\n",
              " ['623020031-5', '623020453-9', '623020511-1'],\n",
              " ['613020615-8', '623020520-0', '623020542-0'],\n",
              " ['623020434-3', '623020517-9', '623020539-9'],\n",
              " ['623020526-8', '623020760-0', '623021010-8'],\n",
              " ['623020513-7', '623020535-7', '623020735-9'],\n",
              " ['623020544-6', '623021050-6'],\n",
              " ['623020516-1', '623020731-7', '623021000-1'],\n",
              " ['623020525-0', '623020540-4', '623020547-0'],\n",
              " ['623021006-9', '623021054-8'],\n",
              " ['613020038-0', '623020041-2', '623020765-0'],\n",
              " ['623020435-1', '623020518-7', '623021002-7'],\n",
              " ['623020527-6', '623021055-6'],\n",
              " ['623020514-5', '623020536-5', '623021005-1']]"
            ]
          },
          "metadata": {},
          "execution_count": 63
        }
      ]
    },
    {
      "cell_type": "code",
      "source": [
        "leftover"
      ],
      "metadata": {
        "colab": {
          "base_uri": "https://localhost:8080/"
        },
        "id": "jbdt_vqIWJij",
        "outputId": "2ed91266-537d-4f52-f9b4-d5a7251ba516"
      },
      "execution_count": 64,
      "outputs": [
        {
          "output_type": "execute_result",
          "data": {
            "text/plain": [
              "['623020762-6',\n",
              " '623020764-2',\n",
              " '623020995-3',\n",
              " '623020999-5',\n",
              " '623021001-9',\n",
              " '623021008-5',\n",
              " '623021009-3',\n",
              " '623021041-7',\n",
              " '623021042-5',\n",
              " '623021044-1',\n",
              " '623021045-9',\n",
              " '623021046-7',\n",
              " '623021047-5',\n",
              " '623021048-3',\n",
              " '623021049-1']"
            ]
          },
          "metadata": {},
          "execution_count": 64
        }
      ]
    },
    {
      "cell_type": "code",
      "source": [
        "for g in groups:\n",
        "    if len(g) < 3:\n",
        "        g.append(leftover.pop())"
      ],
      "metadata": {
        "id": "-NZD_N_DWM_r"
      },
      "execution_count": 65,
      "outputs": []
    },
    {
      "cell_type": "code",
      "source": [
        "groups"
      ],
      "metadata": {
        "colab": {
          "base_uri": "https://localhost:8080/"
        },
        "id": "sX3gbsTSWb6v",
        "outputId": "f766f6bb-3b58-4509-904d-6518da088b16"
      },
      "execution_count": 66,
      "outputs": [
        {
          "output_type": "execute_result",
          "data": {
            "text/plain": [
              "[['623020545-4', '623021051-4', '623021058-0'],\n",
              " ['613020566-5', '623020532-3', '623020732-5'],\n",
              " ['623020541-2', '603021840-5', '623021049-1'],\n",
              " ['623020455-5', '623021007-7', '623021048-3'],\n",
              " ['613020610-8', '623020042-0', '623020449-0'],\n",
              " ['623020451-3', '623020519-5', '623021040-9'],\n",
              " ['623020521-8', '623020528-4', '623020543-8'],\n",
              " ['623020515-3', '623021043-3', '623021047-5'],\n",
              " ['623020761-8', '623021052-2', '623021046-7'],\n",
              " ['623020031-5', '623020453-9', '623020511-1'],\n",
              " ['613020615-8', '623020520-0', '623020542-0'],\n",
              " ['623020434-3', '623020517-9', '623020539-9'],\n",
              " ['623020526-8', '623020760-0', '623021010-8'],\n",
              " ['623020513-7', '623020535-7', '623020735-9'],\n",
              " ['623020544-6', '623021050-6', '623021045-9'],\n",
              " ['623020516-1', '623020731-7', '623021000-1'],\n",
              " ['623020525-0', '623020540-4', '623020547-0'],\n",
              " ['623021006-9', '623021054-8', '623021044-1'],\n",
              " ['613020038-0', '623020041-2', '623020765-0'],\n",
              " ['623020435-1', '623020518-7', '623021002-7'],\n",
              " ['623020527-6', '623021055-6', '623021042-5'],\n",
              " ['623020514-5', '623020536-5', '623021005-1']]"
            ]
          },
          "metadata": {},
          "execution_count": 66
        }
      ]
    },
    {
      "cell_type": "code",
      "source": [
        "leftover"
      ],
      "metadata": {
        "colab": {
          "base_uri": "https://localhost:8080/"
        },
        "id": "6Wn9VgyjWdNo",
        "outputId": "29daaced-2144-44de-cf9a-0b6c238616a2"
      },
      "execution_count": 67,
      "outputs": [
        {
          "output_type": "execute_result",
          "data": {
            "text/plain": [
              "['623020762-6',\n",
              " '623020764-2',\n",
              " '623020995-3',\n",
              " '623020999-5',\n",
              " '623021001-9',\n",
              " '623021008-5',\n",
              " '623021009-3',\n",
              " '623021041-7']"
            ]
          },
          "metadata": {},
          "execution_count": 67
        }
      ]
    },
    {
      "cell_type": "code",
      "source": [
        "for id in leftover:\n",
        "    groups[np.random.randint(22)].append(id)"
      ],
      "metadata": {
        "id": "PccqZQ5NWfHJ"
      },
      "execution_count": 68,
      "outputs": []
    },
    {
      "cell_type": "code",
      "source": [
        "groups"
      ],
      "metadata": {
        "colab": {
          "base_uri": "https://localhost:8080/"
        },
        "id": "HcJRA3bUWvfN",
        "outputId": "36d47746-8d5e-4931-ec79-e8a4af5ee3e0"
      },
      "execution_count": 70,
      "outputs": [
        {
          "output_type": "execute_result",
          "data": {
            "text/plain": [
              "[['623020545-4', '623021051-4', '623021058-0'],\n",
              " ['613020566-5', '623020532-3', '623020732-5'],\n",
              " ['623020541-2', '603021840-5', '623021049-1', '623021009-3'],\n",
              " ['623020455-5', '623021007-7', '623021048-3', '623020762-6'],\n",
              " ['613020610-8', '623020042-0', '623020449-0'],\n",
              " ['623020451-3', '623020519-5', '623021040-9'],\n",
              " ['623020521-8', '623020528-4', '623020543-8'],\n",
              " ['623020515-3', '623021043-3', '623021047-5'],\n",
              " ['623020761-8', '623021052-2', '623021046-7'],\n",
              " ['623020031-5', '623020453-9', '623020511-1'],\n",
              " ['613020615-8', '623020520-0', '623020542-0', '623020999-5'],\n",
              " ['623020434-3', '623020517-9', '623020539-9', '623020995-3'],\n",
              " ['623020526-8', '623020760-0', '623021010-8'],\n",
              " ['623020513-7', '623020535-7', '623020735-9'],\n",
              " ['623020544-6', '623021050-6', '623021045-9', '623020764-2'],\n",
              " ['623020516-1', '623020731-7', '623021000-1', '623021008-5'],\n",
              " ['623020525-0', '623020540-4', '623020547-0'],\n",
              " ['623021006-9', '623021054-8', '623021044-1', '623021041-7'],\n",
              " ['613020038-0', '623020041-2', '623020765-0'],\n",
              " ['623020435-1', '623020518-7', '623021002-7'],\n",
              " ['623020527-6', '623021055-6', '623021042-5'],\n",
              " ['623020514-5', '623020536-5', '623021005-1', '623021001-9']]"
            ]
          },
          "metadata": {},
          "execution_count": 70
        }
      ]
    },
    {
      "cell_type": "code",
      "source": [
        "gname = r.get_random_words(limit=22)\n",
        "gname"
      ],
      "metadata": {
        "colab": {
          "base_uri": "https://localhost:8080/"
        },
        "id": "-uZwF6DzWwzd",
        "outputId": "4ce7722f-7c7e-4393-c9ec-0a1381ea520f"
      },
      "execution_count": 76,
      "outputs": [
        {
          "output_type": "execute_result",
          "data": {
            "text/plain": [
              "['cloistered',\n",
              " 'nyctalopia',\n",
              " 'fustet',\n",
              " 'pioned',\n",
              " 'unconscious',\n",
              " 'zooplankton',\n",
              " 'omicrons',\n",
              " 'tricorns',\n",
              " 'labetalol',\n",
              " 'unprobed',\n",
              " 'triturate',\n",
              " 'cleme',\n",
              " 'counselor',\n",
              " 'uncrated',\n",
              " 'intracellularly',\n",
              " 'fatefulness',\n",
              " 'kibbutzes',\n",
              " 'civilises',\n",
              " 'alphabetical',\n",
              " 'emulate',\n",
              " 'laughing-hyena',\n",
              " 'fundi']"
            ]
          },
          "metadata": {},
          "execution_count": 76
        }
      ]
    },
    {
      "cell_type": "code",
      "source": [
        "groupname = list()\n",
        "for id in id_pd['ID']:\n",
        "    for idg in range(len(groups)):\n",
        "        if id in groups[idg]:\n",
        "            groupname.append(gname[idg])"
      ],
      "metadata": {
        "id": "rty-2FGeXGU3"
      },
      "execution_count": 78,
      "outputs": []
    },
    {
      "cell_type": "code",
      "source": [
        "id_pd"
      ],
      "metadata": {
        "colab": {
          "base_uri": "https://localhost:8080/",
          "height": 427
        },
        "id": "6yan2BNtYROL",
        "outputId": "d0f9fc5b-0266-4ccf-ba35-7af9e4117d8d"
      },
      "execution_count": 79,
      "outputs": [
        {
          "output_type": "execute_result",
          "data": {
            "text/html": [
              "\n",
              "  <div id=\"df-2da9fa5e-fe8d-4c47-bc29-8ee55931c8ad\">\n",
              "    <div class=\"colab-df-container\">\n",
              "      <div>\n",
              "<style scoped>\n",
              "    .dataframe tbody tr th:only-of-type {\n",
              "        vertical-align: middle;\n",
              "    }\n",
              "\n",
              "    .dataframe tbody tr th {\n",
              "        vertical-align: top;\n",
              "    }\n",
              "\n",
              "    .dataframe thead th {\n",
              "        text-align: right;\n",
              "    }\n",
              "</style>\n",
              "<table border=\"1\" class=\"dataframe\">\n",
              "  <thead>\n",
              "    <tr style=\"text-align: right;\">\n",
              "      <th></th>\n",
              "      <th>ID</th>\n",
              "    </tr>\n",
              "  </thead>\n",
              "  <tbody>\n",
              "    <tr>\n",
              "      <th>0</th>\n",
              "      <td>613020038-0</td>\n",
              "    </tr>\n",
              "    <tr>\n",
              "      <th>1</th>\n",
              "      <td>613020566-5</td>\n",
              "    </tr>\n",
              "    <tr>\n",
              "      <th>2</th>\n",
              "      <td>613020610-8</td>\n",
              "    </tr>\n",
              "    <tr>\n",
              "      <th>3</th>\n",
              "      <td>613020615-8</td>\n",
              "    </tr>\n",
              "    <tr>\n",
              "      <th>4</th>\n",
              "      <td>623020031-5</td>\n",
              "    </tr>\n",
              "    <tr>\n",
              "      <th>...</th>\n",
              "      <td>...</td>\n",
              "    </tr>\n",
              "    <tr>\n",
              "      <th>69</th>\n",
              "      <td>623021052-2</td>\n",
              "    </tr>\n",
              "    <tr>\n",
              "      <th>70</th>\n",
              "      <td>623021054-8</td>\n",
              "    </tr>\n",
              "    <tr>\n",
              "      <th>71</th>\n",
              "      <td>623021055-6</td>\n",
              "    </tr>\n",
              "    <tr>\n",
              "      <th>72</th>\n",
              "      <td>623021058-0</td>\n",
              "    </tr>\n",
              "    <tr>\n",
              "      <th>73</th>\n",
              "      <td>603021840-5</td>\n",
              "    </tr>\n",
              "  </tbody>\n",
              "</table>\n",
              "<p>74 rows × 1 columns</p>\n",
              "</div>\n",
              "      <button class=\"colab-df-convert\" onclick=\"convertToInteractive('df-2da9fa5e-fe8d-4c47-bc29-8ee55931c8ad')\"\n",
              "              title=\"Convert this dataframe to an interactive table.\"\n",
              "              style=\"display:none;\">\n",
              "        \n",
              "  <svg xmlns=\"http://www.w3.org/2000/svg\" height=\"24px\"viewBox=\"0 0 24 24\"\n",
              "       width=\"24px\">\n",
              "    <path d=\"M0 0h24v24H0V0z\" fill=\"none\"/>\n",
              "    <path d=\"M18.56 5.44l.94 2.06.94-2.06 2.06-.94-2.06-.94-.94-2.06-.94 2.06-2.06.94zm-11 1L8.5 8.5l.94-2.06 2.06-.94-2.06-.94L8.5 2.5l-.94 2.06-2.06.94zm10 10l.94 2.06.94-2.06 2.06-.94-2.06-.94-.94-2.06-.94 2.06-2.06.94z\"/><path d=\"M17.41 7.96l-1.37-1.37c-.4-.4-.92-.59-1.43-.59-.52 0-1.04.2-1.43.59L10.3 9.45l-7.72 7.72c-.78.78-.78 2.05 0 2.83L4 21.41c.39.39.9.59 1.41.59.51 0 1.02-.2 1.41-.59l7.78-7.78 2.81-2.81c.8-.78.8-2.07 0-2.86zM5.41 20L4 18.59l7.72-7.72 1.47 1.35L5.41 20z\"/>\n",
              "  </svg>\n",
              "      </button>\n",
              "      \n",
              "  <style>\n",
              "    .colab-df-container {\n",
              "      display:flex;\n",
              "      flex-wrap:wrap;\n",
              "      gap: 12px;\n",
              "    }\n",
              "\n",
              "    .colab-df-convert {\n",
              "      background-color: #E8F0FE;\n",
              "      border: none;\n",
              "      border-radius: 50%;\n",
              "      cursor: pointer;\n",
              "      display: none;\n",
              "      fill: #1967D2;\n",
              "      height: 32px;\n",
              "      padding: 0 0 0 0;\n",
              "      width: 32px;\n",
              "    }\n",
              "\n",
              "    .colab-df-convert:hover {\n",
              "      background-color: #E2EBFA;\n",
              "      box-shadow: 0px 1px 2px rgba(60, 64, 67, 0.3), 0px 1px 3px 1px rgba(60, 64, 67, 0.15);\n",
              "      fill: #174EA6;\n",
              "    }\n",
              "\n",
              "    [theme=dark] .colab-df-convert {\n",
              "      background-color: #3B4455;\n",
              "      fill: #D2E3FC;\n",
              "    }\n",
              "\n",
              "    [theme=dark] .colab-df-convert:hover {\n",
              "      background-color: #434B5C;\n",
              "      box-shadow: 0px 1px 3px 1px rgba(0, 0, 0, 0.15);\n",
              "      filter: drop-shadow(0px 1px 2px rgba(0, 0, 0, 0.3));\n",
              "      fill: #FFFFFF;\n",
              "    }\n",
              "  </style>\n",
              "\n",
              "      <script>\n",
              "        const buttonEl =\n",
              "          document.querySelector('#df-2da9fa5e-fe8d-4c47-bc29-8ee55931c8ad button.colab-df-convert');\n",
              "        buttonEl.style.display =\n",
              "          google.colab.kernel.accessAllowed ? 'block' : 'none';\n",
              "\n",
              "        async function convertToInteractive(key) {\n",
              "          const element = document.querySelector('#df-2da9fa5e-fe8d-4c47-bc29-8ee55931c8ad');\n",
              "          const dataTable =\n",
              "            await google.colab.kernel.invokeFunction('convertToInteractive',\n",
              "                                                     [key], {});\n",
              "          if (!dataTable) return;\n",
              "\n",
              "          const docLinkHtml = 'Like what you see? Visit the ' +\n",
              "            '<a target=\"_blank\" href=https://colab.research.google.com/notebooks/data_table.ipynb>data table notebook</a>'\n",
              "            + ' to learn more about interactive tables.';\n",
              "          element.innerHTML = '';\n",
              "          dataTable['output_type'] = 'display_data';\n",
              "          await google.colab.output.renderOutput(dataTable, element);\n",
              "          const docLink = document.createElement('div');\n",
              "          docLink.innerHTML = docLinkHtml;\n",
              "          element.appendChild(docLink);\n",
              "        }\n",
              "      </script>\n",
              "    </div>\n",
              "  </div>\n",
              "  "
            ],
            "text/plain": [
              "             ID\n",
              "0   613020038-0\n",
              "1   613020566-5\n",
              "2   613020610-8\n",
              "3   613020615-8\n",
              "4   623020031-5\n",
              "..          ...\n",
              "69  623021052-2\n",
              "70  623021054-8\n",
              "71  623021055-6\n",
              "72  623021058-0\n",
              "73  603021840-5\n",
              "\n",
              "[74 rows x 1 columns]"
            ]
          },
          "metadata": {},
          "execution_count": 79
        }
      ]
    },
    {
      "cell_type": "code",
      "source": [
        "id_pd['group_name'] = groupname"
      ],
      "metadata": {
        "id": "pQNuAVSlYY7V"
      },
      "execution_count": 80,
      "outputs": []
    },
    {
      "cell_type": "code",
      "source": [
        "id_pd"
      ],
      "metadata": {
        "colab": {
          "base_uri": "https://localhost:8080/",
          "height": 1708
        },
        "id": "dYA2AAnDYgPJ",
        "outputId": "fb86f73c-1d02-46eb-de73-790501c02163"
      },
      "execution_count": 81,
      "outputs": [
        {
          "output_type": "execute_result",
          "data": {
            "text/html": [
              "\n",
              "  <div id=\"df-03db8842-3d58-43c1-80a2-e2afe68712ae\">\n",
              "    <div class=\"colab-df-container\">\n",
              "      <div>\n",
              "<style scoped>\n",
              "    .dataframe tbody tr th:only-of-type {\n",
              "        vertical-align: middle;\n",
              "    }\n",
              "\n",
              "    .dataframe tbody tr th {\n",
              "        vertical-align: top;\n",
              "    }\n",
              "\n",
              "    .dataframe thead th {\n",
              "        text-align: right;\n",
              "    }\n",
              "</style>\n",
              "<table border=\"1\" class=\"dataframe\">\n",
              "  <thead>\n",
              "    <tr style=\"text-align: right;\">\n",
              "      <th></th>\n",
              "      <th>ID</th>\n",
              "      <th>group_name</th>\n",
              "    </tr>\n",
              "  </thead>\n",
              "  <tbody>\n",
              "    <tr>\n",
              "      <th>0</th>\n",
              "      <td>613020038-0</td>\n",
              "      <td>alphabetical</td>\n",
              "    </tr>\n",
              "    <tr>\n",
              "      <th>1</th>\n",
              "      <td>613020566-5</td>\n",
              "      <td>nyctalopia</td>\n",
              "    </tr>\n",
              "    <tr>\n",
              "      <th>2</th>\n",
              "      <td>613020610-8</td>\n",
              "      <td>unconscious</td>\n",
              "    </tr>\n",
              "    <tr>\n",
              "      <th>3</th>\n",
              "      <td>613020615-8</td>\n",
              "      <td>triturate</td>\n",
              "    </tr>\n",
              "    <tr>\n",
              "      <th>4</th>\n",
              "      <td>623020031-5</td>\n",
              "      <td>unprobed</td>\n",
              "    </tr>\n",
              "    <tr>\n",
              "      <th>...</th>\n",
              "      <td>...</td>\n",
              "      <td>...</td>\n",
              "    </tr>\n",
              "    <tr>\n",
              "      <th>69</th>\n",
              "      <td>623021052-2</td>\n",
              "      <td>labetalol</td>\n",
              "    </tr>\n",
              "    <tr>\n",
              "      <th>70</th>\n",
              "      <td>623021054-8</td>\n",
              "      <td>civilises</td>\n",
              "    </tr>\n",
              "    <tr>\n",
              "      <th>71</th>\n",
              "      <td>623021055-6</td>\n",
              "      <td>laughing-hyena</td>\n",
              "    </tr>\n",
              "    <tr>\n",
              "      <th>72</th>\n",
              "      <td>623021058-0</td>\n",
              "      <td>cloistered</td>\n",
              "    </tr>\n",
              "    <tr>\n",
              "      <th>73</th>\n",
              "      <td>603021840-5</td>\n",
              "      <td>fustet</td>\n",
              "    </tr>\n",
              "  </tbody>\n",
              "</table>\n",
              "<p>74 rows × 2 columns</p>\n",
              "</div>\n",
              "      <button class=\"colab-df-convert\" onclick=\"convertToInteractive('df-03db8842-3d58-43c1-80a2-e2afe68712ae')\"\n",
              "              title=\"Convert this dataframe to an interactive table.\"\n",
              "              style=\"display:none;\">\n",
              "        \n",
              "  <svg xmlns=\"http://www.w3.org/2000/svg\" height=\"24px\"viewBox=\"0 0 24 24\"\n",
              "       width=\"24px\">\n",
              "    <path d=\"M0 0h24v24H0V0z\" fill=\"none\"/>\n",
              "    <path d=\"M18.56 5.44l.94 2.06.94-2.06 2.06-.94-2.06-.94-.94-2.06-.94 2.06-2.06.94zm-11 1L8.5 8.5l.94-2.06 2.06-.94-2.06-.94L8.5 2.5l-.94 2.06-2.06.94zm10 10l.94 2.06.94-2.06 2.06-.94-2.06-.94-.94-2.06-.94 2.06-2.06.94z\"/><path d=\"M17.41 7.96l-1.37-1.37c-.4-.4-.92-.59-1.43-.59-.52 0-1.04.2-1.43.59L10.3 9.45l-7.72 7.72c-.78.78-.78 2.05 0 2.83L4 21.41c.39.39.9.59 1.41.59.51 0 1.02-.2 1.41-.59l7.78-7.78 2.81-2.81c.8-.78.8-2.07 0-2.86zM5.41 20L4 18.59l7.72-7.72 1.47 1.35L5.41 20z\"/>\n",
              "  </svg>\n",
              "      </button>\n",
              "      \n",
              "  <style>\n",
              "    .colab-df-container {\n",
              "      display:flex;\n",
              "      flex-wrap:wrap;\n",
              "      gap: 12px;\n",
              "    }\n",
              "\n",
              "    .colab-df-convert {\n",
              "      background-color: #E8F0FE;\n",
              "      border: none;\n",
              "      border-radius: 50%;\n",
              "      cursor: pointer;\n",
              "      display: none;\n",
              "      fill: #1967D2;\n",
              "      height: 32px;\n",
              "      padding: 0 0 0 0;\n",
              "      width: 32px;\n",
              "    }\n",
              "\n",
              "    .colab-df-convert:hover {\n",
              "      background-color: #E2EBFA;\n",
              "      box-shadow: 0px 1px 2px rgba(60, 64, 67, 0.3), 0px 1px 3px 1px rgba(60, 64, 67, 0.15);\n",
              "      fill: #174EA6;\n",
              "    }\n",
              "\n",
              "    [theme=dark] .colab-df-convert {\n",
              "      background-color: #3B4455;\n",
              "      fill: #D2E3FC;\n",
              "    }\n",
              "\n",
              "    [theme=dark] .colab-df-convert:hover {\n",
              "      background-color: #434B5C;\n",
              "      box-shadow: 0px 1px 3px 1px rgba(0, 0, 0, 0.15);\n",
              "      filter: drop-shadow(0px 1px 2px rgba(0, 0, 0, 0.3));\n",
              "      fill: #FFFFFF;\n",
              "    }\n",
              "  </style>\n",
              "\n",
              "      <script>\n",
              "        const buttonEl =\n",
              "          document.querySelector('#df-03db8842-3d58-43c1-80a2-e2afe68712ae button.colab-df-convert');\n",
              "        buttonEl.style.display =\n",
              "          google.colab.kernel.accessAllowed ? 'block' : 'none';\n",
              "\n",
              "        async function convertToInteractive(key) {\n",
              "          const element = document.querySelector('#df-03db8842-3d58-43c1-80a2-e2afe68712ae');\n",
              "          const dataTable =\n",
              "            await google.colab.kernel.invokeFunction('convertToInteractive',\n",
              "                                                     [key], {});\n",
              "          if (!dataTable) return;\n",
              "\n",
              "          const docLinkHtml = 'Like what you see? Visit the ' +\n",
              "            '<a target=\"_blank\" href=https://colab.research.google.com/notebooks/data_table.ipynb>data table notebook</a>'\n",
              "            + ' to learn more about interactive tables.';\n",
              "          element.innerHTML = '';\n",
              "          dataTable['output_type'] = 'display_data';\n",
              "          await google.colab.output.renderOutput(dataTable, element);\n",
              "          const docLink = document.createElement('div');\n",
              "          docLink.innerHTML = docLinkHtml;\n",
              "          element.appendChild(docLink);\n",
              "        }\n",
              "      </script>\n",
              "    </div>\n",
              "  </div>\n",
              "  "
            ],
            "text/plain": [
              "             ID      group_name\n",
              "0   613020038-0    alphabetical\n",
              "1   613020566-5      nyctalopia\n",
              "2   613020610-8     unconscious\n",
              "3   613020615-8       triturate\n",
              "4   623020031-5        unprobed\n",
              "..          ...             ...\n",
              "69  623021052-2       labetalol\n",
              "70  623021054-8       civilises\n",
              "71  623021055-6  laughing-hyena\n",
              "72  623021058-0      cloistered\n",
              "73  603021840-5          fustet\n",
              "\n",
              "[74 rows x 2 columns]"
            ]
          },
          "metadata": {},
          "execution_count": 81
        }
      ]
    },
    {
      "cell_type": "code",
      "source": [
        "id_pd['group_name'].to_csv('gname.csv',index=False)"
      ],
      "metadata": {
        "id": "Sr09aiE-YhI_"
      },
      "execution_count": 84,
      "outputs": []
    },
    {
      "cell_type": "code",
      "source": [
        "pd.DataFrame(gname).to_csv('groups.csv',index=False)"
      ],
      "metadata": {
        "id": "Lg4-3U1JYs4J"
      },
      "execution_count": 88,
      "outputs": []
    },
    {
      "cell_type": "code",
      "source": [
        ""
      ],
      "metadata": {
        "id": "tmaVQ7qKZypu"
      },
      "execution_count": null,
      "outputs": []
    }
  ]
}