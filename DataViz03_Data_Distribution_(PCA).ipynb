{
  "nbformat": 4,
  "nbformat_minor": 0,
  "metadata": {
    "colab": {
      "name": "DataViz03 Data Distribution (PCA).ipynb",
      "provenance": [],
      "authorship_tag": "ABX9TyP5QYXN/CC6L2vf8s5orKZe",
      "include_colab_link": true
    },
    "kernelspec": {
      "name": "python3",
      "display_name": "Python 3"
    },
    "language_info": {
      "name": "python"
    }
  },
  "cells": [
    {
      "cell_type": "markdown",
      "metadata": {
        "id": "view-in-github",
        "colab_type": "text"
      },
      "source": [
        "<a href=\"https://colab.research.google.com/github/tohnperfect/data_viz_2022/blob/main/DataViz03_Data_Distribution_(PCA).ipynb\" target=\"_parent\"><img src=\"https://colab.research.google.com/assets/colab-badge.svg\" alt=\"Open In Colab\"/></a>"
      ]
    },
    {
      "cell_type": "markdown",
      "source": [
        "# PCA  (https://wendynavarrete.com/principal-component-analysis-with-numpy/)\n",
        "\n",
        "![Unknown-3.png](data:image/png;base64,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)"
      ],
      "metadata": {
        "id": "Kx7-QxuOu2aQ"
      }
    },
    {
      "cell_type": "markdown",
      "source": [
        "เมื่อมี ตัวแปร ที่จะนำมาแสดงการกระจายของข้อมูลมากกว่า 2 ตัวแปร สามารถใช้ PCA (Principle Component Analysis) เพื่อลดจำนวนตัวแปรลงมาได้โดยรักษาลักษณะการกระจายของข้อมูลได้มากที่สุด"
      ],
      "metadata": {
        "id": "AOP_UrmPwL29"
      }
    },
    {
      "cell_type": "markdown",
      "source": [
        "### load data"
      ],
      "metadata": {
        "id": "0ykO6j4UwEub"
      }
    },
    {
      "cell_type": "code",
      "source": [
        "import pandas as pd"
      ],
      "metadata": {
        "id": "R6mAfRvVxXJL"
      },
      "execution_count": 2,
      "outputs": []
    },
    {
      "cell_type": "code",
      "source": [
        "example_df = pd.read_csv('https://raw.github.com/pandas-dev/pandas/master/pandas/tests/io/data/csv/iris.csv')\n",
        "example_df"
      ],
      "metadata": {
        "colab": {
          "base_uri": "https://localhost:8080/",
          "height": 447
        },
        "id": "cdv8dW9pwDum",
        "outputId": "f697c649-7d2d-46b0-da74-f357a7e88c9f"
      },
      "execution_count": 3,
      "outputs": [
        {
          "output_type": "execute_result",
          "data": {
            "text/html": [
              "\n",
              "  <div id=\"df-97bc4f2b-87b6-47ec-b0d5-bc325cb932ed\">\n",
              "    <div class=\"colab-df-container\">\n",
              "      <div>\n",
              "<style scoped>\n",
              "    .dataframe tbody tr th:only-of-type {\n",
              "        vertical-align: middle;\n",
              "    }\n",
              "\n",
              "    .dataframe tbody tr th {\n",
              "        vertical-align: top;\n",
              "    }\n",
              "\n",
              "    .dataframe thead th {\n",
              "        text-align: right;\n",
              "    }\n",
              "</style>\n",
              "<table border=\"1\" class=\"dataframe\">\n",
              "  <thead>\n",
              "    <tr style=\"text-align: right;\">\n",
              "      <th></th>\n",
              "      <th>SepalLength</th>\n",
              "      <th>SepalWidth</th>\n",
              "      <th>PetalLength</th>\n",
              "      <th>PetalWidth</th>\n",
              "      <th>Name</th>\n",
              "    </tr>\n",
              "  </thead>\n",
              "  <tbody>\n",
              "    <tr>\n",
              "      <th>0</th>\n",
              "      <td>5.1</td>\n",
              "      <td>3.5</td>\n",
              "      <td>1.4</td>\n",
              "      <td>0.2</td>\n",
              "      <td>Iris-setosa</td>\n",
              "    </tr>\n",
              "    <tr>\n",
              "      <th>1</th>\n",
              "      <td>4.9</td>\n",
              "      <td>3.0</td>\n",
              "      <td>1.4</td>\n",
              "      <td>0.2</td>\n",
              "      <td>Iris-setosa</td>\n",
              "    </tr>\n",
              "    <tr>\n",
              "      <th>2</th>\n",
              "      <td>4.7</td>\n",
              "      <td>3.2</td>\n",
              "      <td>1.3</td>\n",
              "      <td>0.2</td>\n",
              "      <td>Iris-setosa</td>\n",
              "    </tr>\n",
              "    <tr>\n",
              "      <th>3</th>\n",
              "      <td>4.6</td>\n",
              "      <td>3.1</td>\n",
              "      <td>1.5</td>\n",
              "      <td>0.2</td>\n",
              "      <td>Iris-setosa</td>\n",
              "    </tr>\n",
              "    <tr>\n",
              "      <th>4</th>\n",
              "      <td>5.0</td>\n",
              "      <td>3.6</td>\n",
              "      <td>1.4</td>\n",
              "      <td>0.2</td>\n",
              "      <td>Iris-setosa</td>\n",
              "    </tr>\n",
              "    <tr>\n",
              "      <th>...</th>\n",
              "      <td>...</td>\n",
              "      <td>...</td>\n",
              "      <td>...</td>\n",
              "      <td>...</td>\n",
              "      <td>...</td>\n",
              "    </tr>\n",
              "    <tr>\n",
              "      <th>145</th>\n",
              "      <td>6.7</td>\n",
              "      <td>3.0</td>\n",
              "      <td>5.2</td>\n",
              "      <td>2.3</td>\n",
              "      <td>Iris-virginica</td>\n",
              "    </tr>\n",
              "    <tr>\n",
              "      <th>146</th>\n",
              "      <td>6.3</td>\n",
              "      <td>2.5</td>\n",
              "      <td>5.0</td>\n",
              "      <td>1.9</td>\n",
              "      <td>Iris-virginica</td>\n",
              "    </tr>\n",
              "    <tr>\n",
              "      <th>147</th>\n",
              "      <td>6.5</td>\n",
              "      <td>3.0</td>\n",
              "      <td>5.2</td>\n",
              "      <td>2.0</td>\n",
              "      <td>Iris-virginica</td>\n",
              "    </tr>\n",
              "    <tr>\n",
              "      <th>148</th>\n",
              "      <td>6.2</td>\n",
              "      <td>3.4</td>\n",
              "      <td>5.4</td>\n",
              "      <td>2.3</td>\n",
              "      <td>Iris-virginica</td>\n",
              "    </tr>\n",
              "    <tr>\n",
              "      <th>149</th>\n",
              "      <td>5.9</td>\n",
              "      <td>3.0</td>\n",
              "      <td>5.1</td>\n",
              "      <td>1.8</td>\n",
              "      <td>Iris-virginica</td>\n",
              "    </tr>\n",
              "  </tbody>\n",
              "</table>\n",
              "<p>150 rows × 5 columns</p>\n",
              "</div>\n",
              "      <button class=\"colab-df-convert\" onclick=\"convertToInteractive('df-97bc4f2b-87b6-47ec-b0d5-bc325cb932ed')\"\n",
              "              title=\"Convert this dataframe to an interactive table.\"\n",
              "              style=\"display:none;\">\n",
              "        \n",
              "  <svg xmlns=\"http://www.w3.org/2000/svg\" height=\"24px\"viewBox=\"0 0 24 24\"\n",
              "       width=\"24px\">\n",
              "    <path d=\"M0 0h24v24H0V0z\" fill=\"none\"/>\n",
              "    <path d=\"M18.56 5.44l.94 2.06.94-2.06 2.06-.94-2.06-.94-.94-2.06-.94 2.06-2.06.94zm-11 1L8.5 8.5l.94-2.06 2.06-.94-2.06-.94L8.5 2.5l-.94 2.06-2.06.94zm10 10l.94 2.06.94-2.06 2.06-.94-2.06-.94-.94-2.06-.94 2.06-2.06.94z\"/><path d=\"M17.41 7.96l-1.37-1.37c-.4-.4-.92-.59-1.43-.59-.52 0-1.04.2-1.43.59L10.3 9.45l-7.72 7.72c-.78.78-.78 2.05 0 2.83L4 21.41c.39.39.9.59 1.41.59.51 0 1.02-.2 1.41-.59l7.78-7.78 2.81-2.81c.8-.78.8-2.07 0-2.86zM5.41 20L4 18.59l7.72-7.72 1.47 1.35L5.41 20z\"/>\n",
              "  </svg>\n",
              "      </button>\n",
              "      \n",
              "  <style>\n",
              "    .colab-df-container {\n",
              "      display:flex;\n",
              "      flex-wrap:wrap;\n",
              "      gap: 12px;\n",
              "    }\n",
              "\n",
              "    .colab-df-convert {\n",
              "      background-color: #E8F0FE;\n",
              "      border: none;\n",
              "      border-radius: 50%;\n",
              "      cursor: pointer;\n",
              "      display: none;\n",
              "      fill: #1967D2;\n",
              "      height: 32px;\n",
              "      padding: 0 0 0 0;\n",
              "      width: 32px;\n",
              "    }\n",
              "\n",
              "    .colab-df-convert:hover {\n",
              "      background-color: #E2EBFA;\n",
              "      box-shadow: 0px 1px 2px rgba(60, 64, 67, 0.3), 0px 1px 3px 1px rgba(60, 64, 67, 0.15);\n",
              "      fill: #174EA6;\n",
              "    }\n",
              "\n",
              "    [theme=dark] .colab-df-convert {\n",
              "      background-color: #3B4455;\n",
              "      fill: #D2E3FC;\n",
              "    }\n",
              "\n",
              "    [theme=dark] .colab-df-convert:hover {\n",
              "      background-color: #434B5C;\n",
              "      box-shadow: 0px 1px 3px 1px rgba(0, 0, 0, 0.15);\n",
              "      filter: drop-shadow(0px 1px 2px rgba(0, 0, 0, 0.3));\n",
              "      fill: #FFFFFF;\n",
              "    }\n",
              "  </style>\n",
              "\n",
              "      <script>\n",
              "        const buttonEl =\n",
              "          document.querySelector('#df-97bc4f2b-87b6-47ec-b0d5-bc325cb932ed button.colab-df-convert');\n",
              "        buttonEl.style.display =\n",
              "          google.colab.kernel.accessAllowed ? 'block' : 'none';\n",
              "\n",
              "        async function convertToInteractive(key) {\n",
              "          const element = document.querySelector('#df-97bc4f2b-87b6-47ec-b0d5-bc325cb932ed');\n",
              "          const dataTable =\n",
              "            await google.colab.kernel.invokeFunction('convertToInteractive',\n",
              "                                                     [key], {});\n",
              "          if (!dataTable) return;\n",
              "\n",
              "          const docLinkHtml = 'Like what you see? Visit the ' +\n",
              "            '<a target=\"_blank\" href=https://colab.research.google.com/notebooks/data_table.ipynb>data table notebook</a>'\n",
              "            + ' to learn more about interactive tables.';\n",
              "          element.innerHTML = '';\n",
              "          dataTable['output_type'] = 'display_data';\n",
              "          await google.colab.output.renderOutput(dataTable, element);\n",
              "          const docLink = document.createElement('div');\n",
              "          docLink.innerHTML = docLinkHtml;\n",
              "          element.appendChild(docLink);\n",
              "        }\n",
              "      </script>\n",
              "    </div>\n",
              "  </div>\n",
              "  "
            ],
            "text/plain": [
              "     SepalLength  SepalWidth  PetalLength  PetalWidth            Name\n",
              "0            5.1         3.5          1.4         0.2     Iris-setosa\n",
              "1            4.9         3.0          1.4         0.2     Iris-setosa\n",
              "2            4.7         3.2          1.3         0.2     Iris-setosa\n",
              "3            4.6         3.1          1.5         0.2     Iris-setosa\n",
              "4            5.0         3.6          1.4         0.2     Iris-setosa\n",
              "..           ...         ...          ...         ...             ...\n",
              "145          6.7         3.0          5.2         2.3  Iris-virginica\n",
              "146          6.3         2.5          5.0         1.9  Iris-virginica\n",
              "147          6.5         3.0          5.2         2.0  Iris-virginica\n",
              "148          6.2         3.4          5.4         2.3  Iris-virginica\n",
              "149          5.9         3.0          5.1         1.8  Iris-virginica\n",
              "\n",
              "[150 rows x 5 columns]"
            ]
          },
          "metadata": {},
          "execution_count": 3
        }
      ]
    },
    {
      "cell_type": "markdown",
      "source": [
        "### ดูการกระจายของข้อมูลในตารางๆแบบ คร่าวๆ"
      ],
      "metadata": {
        "id": "XBdsJCJuxkjq"
      }
    },
    {
      "cell_type": "code",
      "execution_count": 5,
      "metadata": {
        "colab": {
          "base_uri": "https://localhost:8080/",
          "height": 307
        },
        "id": "1awjbYzEuSeu",
        "outputId": "bf63311c-8e6e-4dac-a370-94c9971c2788"
      },
      "outputs": [
        {
          "output_type": "display_data",
          "data": {
            "image/png": "[encoded data removed]",
            "text/plain": [
              "<Figure size 432x288 with 16 Axes>"
            ]
          },
          "metadata": {
            "needs_background": "light"
          }
        }
      ],
      "source": [
        "pd.plotting.scatter_matrix(example_df);"
      ]
    },
    {
      "cell_type": "markdown",
      "source": [
        "### เริ่มทำ PCA"
      ],
      "metadata": {
        "id": "i4wJP5Efydhw"
      }
    },
    {
      "cell_type": "markdown",
      "source": [
        "sklearn -> scikit-learn เป็น package ที่รวบรวม function การทำ Data Science - Machine Learning - Data Mining เอาไว้ให้เราใช้แบบไม่ต้องเขียนเอง"
      ],
      "metadata": {
        "id": "Y_u6qATgy5OR"
      }
    },
    {
      "cell_type": "markdown",
      "source": [
        "import"
      ],
      "metadata": {
        "id": "5d8bF5C4yipK"
      }
    },
    {
      "cell_type": "code",
      "source": [
        "from sklearn.decomposition import PCA"
      ],
      "metadata": {
        "id": "41PfapGVyx9h"
      },
      "execution_count": 6,
      "outputs": []
    },
    {
      "cell_type": "markdown",
      "source": [
        "define"
      ],
      "metadata": {
        "id": "lp_mMKuUyq9a"
      }
    },
    {
      "cell_type": "code",
      "source": [
        "pca = PCA()"
      ],
      "metadata": {
        "id": "TZVlWcrGztfB"
      },
      "execution_count": 7,
      "outputs": []
    },
    {
      "cell_type": "markdown",
      "source": [
        "fit-transform"
      ],
      "metadata": {
        "id": "KCRaThaXytzZ"
      }
    },
    {
      "cell_type": "code",
      "source": [
        "thisdata = example_df.iloc[:,:-1]\n",
        "thisdata"
      ],
      "metadata": {
        "colab": {
          "base_uri": "https://localhost:8080/",
          "height": 447
        },
        "id": "KGtu6TxaxiZA",
        "outputId": "448f73fd-950b-4d25-fc04-0877aa71e7a1"
      },
      "execution_count": 8,
      "outputs": [
        {
          "output_type": "execute_result",
          "data": {
            "text/html": [
              "\n",
              "  <div id=\"df-4facff32-a93f-4fff-bc73-1e2b3435a2ac\">\n",
              "    <div class=\"colab-df-container\">\n",
              "      <div>\n",
              "<style scoped>\n",
              "    .dataframe tbody tr th:only-of-type {\n",
              "        vertical-align: middle;\n",
              "    }\n",
              "\n",
              "    .dataframe tbody tr th {\n",
              "        vertical-align: top;\n",
              "    }\n",
              "\n",
              "    .dataframe thead th {\n",
              "        text-align: right;\n",
              "    }\n",
              "</style>\n",
              "<table border=\"1\" class=\"dataframe\">\n",
              "  <thead>\n",
              "    <tr style=\"text-align: right;\">\n",
              "      <th></th>\n",
              "      <th>SepalLength</th>\n",
              "      <th>SepalWidth</th>\n",
              "      <th>PetalLength</th>\n",
              "      <th>PetalWidth</th>\n",
              "    </tr>\n",
              "  </thead>\n",
              "  <tbody>\n",
              "    <tr>\n",
              "      <th>0</th>\n",
              "      <td>5.1</td>\n",
              "      <td>3.5</td>\n",
              "      <td>1.4</td>\n",
              "      <td>0.2</td>\n",
              "    </tr>\n",
              "    <tr>\n",
              "      <th>1</th>\n",
              "      <td>4.9</td>\n",
              "      <td>3.0</td>\n",
              "      <td>1.4</td>\n",
              "      <td>0.2</td>\n",
              "    </tr>\n",
              "    <tr>\n",
              "      <th>2</th>\n",
              "      <td>4.7</td>\n",
              "      <td>3.2</td>\n",
              "      <td>1.3</td>\n",
              "      <td>0.2</td>\n",
              "    </tr>\n",
              "    <tr>\n",
              "      <th>3</th>\n",
              "      <td>4.6</td>\n",
              "      <td>3.1</td>\n",
              "      <td>1.5</td>\n",
              "      <td>0.2</td>\n",
              "    </tr>\n",
              "    <tr>\n",
              "      <th>4</th>\n",
              "      <td>5.0</td>\n",
              "      <td>3.6</td>\n",
              "      <td>1.4</td>\n",
              "      <td>0.2</td>\n",
              "    </tr>\n",
              "    <tr>\n",
              "      <th>...</th>\n",
              "      <td>...</td>\n",
              "      <td>...</td>\n",
              "      <td>...</td>\n",
              "      <td>...</td>\n",
              "    </tr>\n",
              "    <tr>\n",
              "      <th>145</th>\n",
              "      <td>6.7</td>\n",
              "      <td>3.0</td>\n",
              "      <td>5.2</td>\n",
              "      <td>2.3</td>\n",
              "    </tr>\n",
              "    <tr>\n",
              "      <th>146</th>\n",
              "      <td>6.3</td>\n",
              "      <td>2.5</td>\n",
              "      <td>5.0</td>\n",
              "      <td>1.9</td>\n",
              "    </tr>\n",
              "    <tr>\n",
              "      <th>147</th>\n",
              "      <td>6.5</td>\n",
              "      <td>3.0</td>\n",
              "      <td>5.2</td>\n",
              "      <td>2.0</td>\n",
              "    </tr>\n",
              "    <tr>\n",
              "      <th>148</th>\n",
              "      <td>6.2</td>\n",
              "      <td>3.4</td>\n",
              "      <td>5.4</td>\n",
              "      <td>2.3</td>\n",
              "    </tr>\n",
              "    <tr>\n",
              "      <th>149</th>\n",
              "      <td>5.9</td>\n",
              "      <td>3.0</td>\n",
              "      <td>5.1</td>\n",
              "      <td>1.8</td>\n",
              "    </tr>\n",
              "  </tbody>\n",
              "</table>\n",
              "<p>150 rows × 4 columns</p>\n",
              "</div>\n",
              "      <button class=\"colab-df-convert\" onclick=\"convertToInteractive('df-4facff32-a93f-4fff-bc73-1e2b3435a2ac')\"\n",
              "              title=\"Convert this dataframe to an interactive table.\"\n",
              "              style=\"display:none;\">\n",
              "        \n",
              "  <svg xmlns=\"http://www.w3.org/2000/svg\" height=\"24px\"viewBox=\"0 0 24 24\"\n",
              "       width=\"24px\">\n",
              "    <path d=\"M0 0h24v24H0V0z\" fill=\"none\"/>\n",
              "    <path d=\"M18.56 5.44l.94 2.06.94-2.06 2.06-.94-2.06-.94-.94-2.06-.94 2.06-2.06.94zm-11 1L8.5 8.5l.94-2.06 2.06-.94-2.06-.94L8.5 2.5l-.94 2.06-2.06.94zm10 10l.94 2.06.94-2.06 2.06-.94-2.06-.94-.94-2.06-.94 2.06-2.06.94z\"/><path d=\"M17.41 7.96l-1.37-1.37c-.4-.4-.92-.59-1.43-.59-.52 0-1.04.2-1.43.59L10.3 9.45l-7.72 7.72c-.78.78-.78 2.05 0 2.83L4 21.41c.39.39.9.59 1.41.59.51 0 1.02-.2 1.41-.59l7.78-7.78 2.81-2.81c.8-.78.8-2.07 0-2.86zM5.41 20L4 18.59l7.72-7.72 1.47 1.35L5.41 20z\"/>\n",
              "  </svg>\n",
              "      </button>\n",
              "      \n",
              "  <style>\n",
              "    .colab-df-container {\n",
              "      display:flex;\n",
              "      flex-wrap:wrap;\n",
              "      gap: 12px;\n",
              "    }\n",
              "\n",
              "    .colab-df-convert {\n",
              "      background-color: #E8F0FE;\n",
              "      border: none;\n",
              "      border-radius: 50%;\n",
              "      cursor: pointer;\n",
              "      display: none;\n",
              "      fill: #1967D2;\n",
              "      height: 32px;\n",
              "      padding: 0 0 0 0;\n",
              "      width: 32px;\n",
              "    }\n",
              "\n",
              "    .colab-df-convert:hover {\n",
              "      background-color: #E2EBFA;\n",
              "      box-shadow: 0px 1px 2px rgba(60, 64, 67, 0.3), 0px 1px 3px 1px rgba(60, 64, 67, 0.15);\n",
              "      fill: #174EA6;\n",
              "    }\n",
              "\n",
              "    [theme=dark] .colab-df-convert {\n",
              "      background-color: #3B4455;\n",
              "      fill: #D2E3FC;\n",
              "    }\n",
              "\n",
              "    [theme=dark] .colab-df-convert:hover {\n",
              "      background-color: #434B5C;\n",
              "      box-shadow: 0px 1px 3px 1px rgba(0, 0, 0, 0.15);\n",
              "      filter: drop-shadow(0px 1px 2px rgba(0, 0, 0, 0.3));\n",
              "      fill: #FFFFFF;\n",
              "    }\n",
              "  </style>\n",
              "\n",
              "      <script>\n",
              "        const buttonEl =\n",
              "          document.querySelector('#df-4facff32-a93f-4fff-bc73-1e2b3435a2ac button.colab-df-convert');\n",
              "        buttonEl.style.display =\n",
              "          google.colab.kernel.accessAllowed ? 'block' : 'none';\n",
              "\n",
              "        async function convertToInteractive(key) {\n",
              "          const element = document.querySelector('#df-4facff32-a93f-4fff-bc73-1e2b3435a2ac');\n",
              "          const dataTable =\n",
              "            await google.colab.kernel.invokeFunction('convertToInteractive',\n",
              "                                                     [key], {});\n",
              "          if (!dataTable) return;\n",
              "\n",
              "          const docLinkHtml = 'Like what you see? Visit the ' +\n",
              "            '<a target=\"_blank\" href=https://colab.research.google.com/notebooks/data_table.ipynb>data table notebook</a>'\n",
              "            + ' to learn more about interactive tables.';\n",
              "          element.innerHTML = '';\n",
              "          dataTable['output_type'] = 'display_data';\n",
              "          await google.colab.output.renderOutput(dataTable, element);\n",
              "          const docLink = document.createElement('div');\n",
              "          docLink.innerHTML = docLinkHtml;\n",
              "          element.appendChild(docLink);\n",
              "        }\n",
              "      </script>\n",
              "    </div>\n",
              "  </div>\n",
              "  "
            ],
            "text/plain": [
              "     SepalLength  SepalWidth  PetalLength  PetalWidth\n",
              "0            5.1         3.5          1.4         0.2\n",
              "1            4.9         3.0          1.4         0.2\n",
              "2            4.7         3.2          1.3         0.2\n",
              "3            4.6         3.1          1.5         0.2\n",
              "4            5.0         3.6          1.4         0.2\n",
              "..           ...         ...          ...         ...\n",
              "145          6.7         3.0          5.2         2.3\n",
              "146          6.3         2.5          5.0         1.9\n",
              "147          6.5         3.0          5.2         2.0\n",
              "148          6.2         3.4          5.4         2.3\n",
              "149          5.9         3.0          5.1         1.8\n",
              "\n",
              "[150 rows x 4 columns]"
            ]
          },
          "metadata": {},
          "execution_count": 8
        }
      ]
    },
    {
      "cell_type": "code",
      "source": [
        "new_axis = pca.fit_transform(thisdata)"
      ],
      "metadata": {
        "id": "MZQSXewk0HdU"
      },
      "execution_count": 9,
      "outputs": []
    },
    {
      "cell_type": "code",
      "source": [
        "new_axis.shape"
      ],
      "metadata": {
        "colab": {
          "base_uri": "https://localhost:8080/"
        },
        "id": "Qkx_rUPF0YbS",
        "outputId": "d940f852-3910-492b-ba6d-c7dabd3dc862"
      },
      "execution_count": 11,
      "outputs": [
        {
          "output_type": "execute_result",
          "data": {
            "text/plain": [
              "(150, 4)"
            ]
          },
          "metadata": {},
          "execution_count": 11
        }
      ]
    },
    {
      "cell_type": "code",
      "source": [
        "new_axis"
      ],
      "metadata": {
        "colab": {
          "base_uri": "https://localhost:8080/"
        },
        "id": "JZgbf4eh0avr",
        "outputId": "62a7cb7e-d058-4349-930f-68a6f1acab3c"
      },
      "execution_count": 12,
      "outputs": [
        {
          "output_type": "execute_result",
          "data": {
            "text/plain": [
              "array([[-2.68420713e+00,  3.26607315e-01, -2.15118370e-02,\n",
              "         1.00615724e-03],\n",
              "       [-2.71539062e+00, -1.69556848e-01, -2.03521425e-01,\n",
              "         9.96024240e-02],\n",
              "       [-2.88981954e+00, -1.37345610e-01,  2.47092410e-02,\n",
              "         1.93045428e-02],\n",
              "       [-2.74643720e+00, -3.11124316e-01,  3.76719753e-02,\n",
              "        -7.59552741e-02],\n",
              "       [-2.72859298e+00,  3.33924564e-01,  9.62296998e-02,\n",
              "        -6.31287327e-02],\n",
              "       [-2.27989736e+00,  7.47782713e-01,  1.74325619e-01,\n",
              "        -2.71468037e-02],\n",
              "       [-2.82089068e+00, -8.21045110e-02,  2.64251085e-01,\n",
              "        -5.00996251e-02],\n",
              "       [-2.62648199e+00,  1.70405349e-01, -1.58015103e-02,\n",
              "        -4.62817610e-02],\n",
              "       [-2.88795857e+00, -5.70798026e-01,  2.73354061e-02,\n",
              "        -2.66154143e-02],\n",
              "       [-2.67384469e+00, -1.06691704e-01, -1.91533300e-01,\n",
              "        -5.58909660e-02],\n",
              "       [-2.50652679e+00,  6.51935014e-01, -6.92749958e-02,\n",
              "        -1.66082478e-02],\n",
              "       [-2.61314272e+00,  2.15206320e-02,  1.07650353e-01,\n",
              "        -1.57704569e-01],\n",
              "       [-2.78743398e+00, -2.27740189e-01, -2.00327788e-01,\n",
              "        -7.23508674e-03],\n",
              "       [-3.22520045e+00, -5.03279909e-01,  6.84136292e-02,\n",
              "        -2.19466641e-02],\n",
              "       [-2.64354322e+00,  1.18619490e+00, -1.44505704e-01,\n",
              "         1.56980962e-01],\n",
              "       [-2.38386932e+00,  1.34475434e+00,  2.83730664e-01,\n",
              "         1.92618171e-03],\n",
              "       [-2.62252620e+00,  8.18089675e-01,  1.45315989e-01,\n",
              "         1.64740791e-01],\n",
              "       [-2.64832273e+00,  3.19136668e-01,  3.33942541e-02,\n",
              "         7.61182133e-02],\n",
              "       [-2.19907796e+00,  8.79244088e-01, -1.14521465e-01,\n",
              "         2.53269397e-02],\n",
              "       [-2.58734619e+00,  5.20473639e-01,  2.19572088e-01,\n",
              "        -6.90819912e-02],\n",
              "       [-2.31053170e+00,  3.97867822e-01, -2.33695607e-01,\n",
              "        -1.53237396e-02],\n",
              "       [-2.54323491e+00,  4.40031755e-01,  2.14836370e-01,\n",
              "         3.84395001e-02],\n",
              "       [-3.21585769e+00,  1.41615572e-01,  2.99618982e-01,\n",
              "         1.85704335e-03],\n",
              "       [-2.30312854e+00,  1.05522678e-01,  4.56800413e-02,\n",
              "         1.47245500e-01],\n",
              "       [-2.35617109e+00, -3.12095891e-02,  1.29407576e-01,\n",
              "        -3.01620265e-01],\n",
              "       [-2.50791723e+00, -1.39056340e-01, -2.47116338e-01,\n",
              "         3.53840813e-02],\n",
              "       [-2.46905600e+00,  1.37887315e-01,  1.01263079e-01,\n",
              "         5.59704524e-02],\n",
              "       [-2.56239095e+00,  3.74684563e-01, -7.23591574e-02,\n",
              "        -1.52402868e-02],\n",
              "       [-2.63982127e+00,  3.19290066e-01, -1.39253374e-01,\n",
              "         6.51410472e-02],\n",
              "       [-2.63284791e+00, -1.90075831e-01,  4.64664636e-02,\n",
              "        -1.24611153e-01],\n",
              "       [-2.58846205e+00, -1.97393079e-01, -7.12750731e-02,\n",
              "        -6.04762634e-02],\n",
              "       [-2.41007734e+00,  4.18080008e-01, -1.38388240e-01,\n",
              "         2.30844170e-01],\n",
              "       [-2.64763667e+00,  8.19982633e-01,  2.30585604e-01,\n",
              "        -2.84808954e-01],\n",
              "       [-2.59715948e+00,  1.10002193e+00,  1.63581913e-01,\n",
              "        -9.89580706e-02],\n",
              "       [-2.67384469e+00, -1.06691704e-01, -1.91533300e-01,\n",
              "        -5.58909660e-02],\n",
              "       [-2.86699985e+00,  7.71930957e-02, -1.56842350e-01,\n",
              "         1.62452806e-01],\n",
              "       [-2.62522846e+00,  6.06800008e-01, -2.61163156e-01,\n",
              "         1.75879875e-01],\n",
              "       [-2.67384469e+00, -1.06691704e-01, -1.91533300e-01,\n",
              "        -5.58909660e-02],\n",
              "       [-2.98184266e+00, -4.80250049e-01,  7.97248074e-02,\n",
              "        -1.10529508e-02],\n",
              "       [-2.59032303e+00,  2.36059337e-01, -7.39012382e-02,\n",
              "        -1.45563062e-02],\n",
              "       [-2.77013891e+00,  2.71059420e-01,  8.42415745e-02,\n",
              "         9.23646573e-02],\n",
              "       [-2.85221108e+00, -9.32865367e-01, -3.40961491e-01,\n",
              "         3.22650607e-01],\n",
              "       [-2.99829644e+00, -3.34307575e-01,  1.99008425e-01,\n",
              "        -7.58718213e-02],\n",
              "       [-2.40551410e+00,  1.95917258e-01,  2.70717070e-01,\n",
              "         1.73785129e-01],\n",
              "       [-2.20883295e+00,  4.42696030e-01,  3.03487809e-01,\n",
              "        -1.85857530e-01],\n",
              "       [-2.71566519e+00, -2.42681483e-01, -9.05156060e-02,\n",
              "         1.42989025e-01],\n",
              "       [-2.53757337e+00,  5.10367545e-01,  1.71918404e-01,\n",
              "        -1.92165946e-01],\n",
              "       [-2.84032130e+00, -2.20576338e-01,  9.00613765e-02,\n",
              "        -6.03928106e-02],\n",
              "       [-2.54268576e+00,  5.86281025e-01, -1.11752678e-02,\n",
              "        -4.83337025e-02],\n",
              "       [-2.70391231e+00,  1.15010852e-01, -8.26957266e-02,\n",
              "         3.40995730e-02],\n",
              "       [ 1.28479459e+00,  6.85439186e-01, -4.06129553e-01,\n",
              "         1.92901169e-02],\n",
              "       [ 9.32410753e-01,  3.19198090e-01, -1.71299092e-02,\n",
              "        -6.75794171e-06],\n",
              "       [ 1.46406132e+00,  5.04189833e-01, -3.38260728e-01,\n",
              "        -8.57644048e-04],\n",
              "       [ 1.80967206e-01, -8.25603944e-01, -1.77082856e-01,\n",
              "         9.57844484e-02],\n",
              "       [ 1.08713449e+00,  7.53903893e-02, -3.06544465e-01,\n",
              "         1.13384539e-01],\n",
              "       [ 6.40436750e-01, -4.17323483e-01,  4.11887694e-02,\n",
              "        -2.42671312e-01],\n",
              "       [ 1.09522371e+00,  2.83891211e-01,  1.70022534e-01,\n",
              "        -8.49733893e-02],\n",
              "       [-7.51467141e-01, -1.00110751e+00,  1.56721942e-02,\n",
              "        -1.65105922e-02],\n",
              "       [ 1.04329778e+00,  2.28956909e-01, -4.14814566e-01,\n",
              "        -3.75235536e-02],\n",
              "       [-1.01900707e-02, -7.20574867e-01,  2.83437246e-01,\n",
              "        -5.94570198e-03],\n",
              "       [-5.11086196e-01, -1.26249195e+00, -2.66489954e-01,\n",
              "         4.89088061e-02],\n",
              "       [ 5.11098061e-01, -1.02284105e-01,  1.32327890e-01,\n",
              "         5.01005352e-02],\n",
              "       [ 2.62335756e-01, -5.47893298e-01, -6.91941578e-01,\n",
              "         6.14849891e-02],\n",
              "       [ 9.84044545e-01, -1.24360420e-01, -6.21574276e-02,\n",
              "        -1.69010670e-01],\n",
              "       [-1.74864002e-01, -2.51815571e-01,  9.36586382e-02,\n",
              "         1.24940887e-01],\n",
              "       [ 9.27572942e-01,  4.68236205e-01, -3.13229401e-01,\n",
              "         1.00438884e-01],\n",
              "       [ 6.59592789e-01, -3.51976291e-01,  3.28384297e-01,\n",
              "        -1.88991525e-01],\n",
              "       [ 2.34540586e-01, -3.31921829e-01, -2.70280671e-01,\n",
              "        -2.11984995e-01],\n",
              "       [ 9.42361707e-01, -5.41822258e-01, -4.97348541e-01,\n",
              "         2.60636685e-01],\n",
              "       [ 4.32464003e-02, -5.81489447e-01, -2.32963556e-01,\n",
              "        -3.95611807e-02],\n",
              "       [ 1.11624072e+00, -8.42140139e-02,  4.59844227e-01,\n",
              "        -7.72135596e-02],\n",
              "       [ 3.56786568e-01, -6.68238279e-02, -2.27472180e-01,\n",
              "         1.24090000e-01],\n",
              "       [ 1.29646885e+00, -3.27561520e-01, -3.47513213e-01,\n",
              "         3.24623910e-03],\n",
              "       [ 9.20502649e-01, -1.82390363e-01, -2.31611419e-01,\n",
              "        -2.86825347e-01],\n",
              "       [ 7.14008214e-01,  1.50379153e-01, -3.20372333e-01,\n",
              "         4.29412332e-02],\n",
              "       [ 8.99640863e-01,  3.29610980e-01, -3.14771481e-01,\n",
              "         1.01122865e-01],\n",
              "       [ 1.33104142e+00,  2.44669521e-01, -5.21244925e-01,\n",
              "         3.75050497e-02],\n",
              "       [ 1.55739627e+00,  2.67392585e-01, -1.64638491e-01,\n",
              "         7.03530951e-02],\n",
              "       [ 8.12455549e-01, -1.62331575e-01,  3.63435763e-02,\n",
              "        -2.96802711e-02],\n",
              "       [-3.07334756e-01, -3.65086613e-01, -3.15337197e-01,\n",
              "         7.65303776e-02],\n",
              "       [-7.03428889e-02, -7.02537932e-01, -2.41758045e-01,\n",
              "         9.09469852e-03],\n",
              "       [-1.91884492e-01, -6.77490544e-01, -3.03916543e-01,\n",
              "        -1.80454588e-02],\n",
              "       [ 1.34994950e-01, -3.11709643e-01, -1.74973304e-01,\n",
              "         3.41829142e-02],\n",
              "       [ 1.37873698e+00, -4.21205138e-01,  1.54804951e-02,\n",
              "        -1.77580737e-01],\n",
              "       [ 5.87274854e-01, -4.83284268e-01,  4.44583753e-01,\n",
              "        -2.52442435e-01],\n",
              "       [ 8.07205497e-01,  1.95053964e-01,  3.89458711e-01,\n",
              "        -1.16615391e-01],\n",
              "       [ 1.22042897e+00,  4.08035337e-01, -2.36566087e-01,\n",
              "         3.16352440e-02],\n",
              "       [ 8.12867790e-01, -3.70678998e-01, -6.12871050e-01,\n",
              "         1.57700491e-01],\n",
              "       [ 2.45195162e-01, -2.66728036e-01,  1.89562485e-01,\n",
              "        -1.47328042e-01],\n",
              "       [ 1.64513428e-01, -6.79661469e-01, -5.77992388e-02,\n",
              "         3.09655779e-02],\n",
              "       [ 4.63030989e-01, -6.69526547e-01, -2.40538909e-02,\n",
              "        -2.68443508e-01],\n",
              "       [ 8.90160446e-01, -3.38124427e-02, -9.76802637e-03,\n",
              "        -1.53448206e-01],\n",
              "       [ 2.28879050e-01, -4.02257620e-01, -2.27362705e-01,\n",
              "         1.86204508e-02],\n",
              "       [-7.07081284e-01, -1.00842476e+00, -1.02069343e-01,\n",
              "         4.76242978e-02],\n",
              "       [ 3.55533039e-01, -5.03218487e-01,  1.78894659e-02,\n",
              "        -9.80716353e-02],\n",
              "       [ 3.31126947e-01, -2.11180141e-01,  8.38090732e-02,\n",
              "        -2.38686542e-01],\n",
              "       [ 3.75238229e-01, -2.91622025e-01,  7.90733555e-02,\n",
              "        -1.31165051e-01],\n",
              "       [ 6.41690278e-01,  1.90711765e-02, -2.04172877e-01,\n",
              "        -2.05096763e-02],\n",
              "       [-9.08463333e-01, -7.51568725e-01, -7.73658451e-03,\n",
              "         2.33558634e-01],\n",
              "       [ 2.97807907e-01, -3.47016522e-01,  1.21791392e-02,\n",
              "        -5.07837171e-02],\n",
              "       [ 2.53172698e+00, -1.18422366e-02,  7.58458652e-01,\n",
              "        -3.25995685e-02],\n",
              "       [ 1.41407223e+00, -5.74925056e-01,  2.96398224e-01,\n",
              "        -1.56954783e-02],\n",
              "       [ 2.61648461e+00,  3.41935287e-01, -1.12141371e-01,\n",
              "         6.59560495e-02],\n",
              "       [ 1.97081495e+00, -1.81125695e-01,  1.06539149e-01,\n",
              "        -2.36858625e-01],\n",
              "       [ 2.34975798e+00, -4.18825497e-02,  2.84110681e-01,\n",
              "        -1.31272400e-03],\n",
              "       [ 3.39687992e+00,  5.47168046e-01, -3.51873158e-01,\n",
              "        -1.11219968e-01],\n",
              "       [ 5.19383245e-01, -1.19135169e+00,  5.46685531e-01,\n",
              "        -9.87984199e-02],\n",
              "       [ 2.93200510e+00,  3.52377006e-01, -4.23691278e-01,\n",
              "        -2.55407369e-01],\n",
              "       [ 2.31967279e+00, -2.45548171e-01, -3.49922183e-01,\n",
              "        -7.62628625e-02],\n",
              "       [ 2.91813423e+00,  7.80380629e-01,  4.21738934e-01,\n",
              "         1.07729319e-01],\n",
              "       [ 1.66193495e+00,  2.42038401e-01,  2.42815263e-01,\n",
              "         1.19447585e-01],\n",
              "       [ 1.80234045e+00, -2.16154607e-01, -3.76953285e-02,\n",
              "         7.87134526e-02],\n",
              "       [ 2.16537886e+00,  2.15280283e-01,  3.31481832e-02,\n",
              "         1.62667280e-01],\n",
              "       [ 1.34459422e+00, -7.76415425e-01,  2.82868018e-01,\n",
              "         1.40481892e-01],\n",
              "       [ 1.58526730e+00, -5.39307054e-01,  6.30570488e-01,\n",
              "         3.27455367e-01],\n",
              "       [ 1.90474358e+00,  1.18818991e-01,  4.80138080e-01,\n",
              "         2.17114500e-01],\n",
              "       [ 1.94924878e+00,  4.07302594e-02,  4.27290939e-02,\n",
              "        -1.57845252e-01],\n",
              "       [ 3.48876538e+00,  1.17154454e+00,  1.29320083e-01,\n",
              "        -3.11629838e-01],\n",
              "       [ 3.79468686e+00,  2.53265571e-01, -5.16970716e-01,\n",
              "         5.64516435e-02],\n",
              "       [ 1.29832982e+00, -7.61013937e-01, -3.44887047e-01,\n",
              "        -4.26737181e-02],\n",
              "       [ 2.42816726e+00,  3.76781971e-01,  2.18649070e-01,\n",
              "         1.83854179e-01],\n",
              "       [ 1.19809737e+00, -6.05578962e-01,  5.12640765e-01,\n",
              "         5.95000305e-02],\n",
              "       [ 3.49926548e+00,  4.56773467e-01, -5.76910187e-01,\n",
              "        -1.37759598e-01],\n",
              "       [ 1.38766825e+00, -2.04030987e-01, -6.35113218e-02,\n",
              "         1.63763537e-01],\n",
              "       [ 2.27585365e+00,  3.33386526e-01,  2.84678153e-01,\n",
              "        -6.22302776e-02],\n",
              "       [ 2.61419383e+00,  5.58366950e-01, -2.08423347e-01,\n",
              "        -2.40445433e-01],\n",
              "       [ 1.25762518e+00, -1.79136997e-01,  4.69778074e-02,\n",
              "         1.47600546e-01],\n",
              "       [ 1.29066965e+00, -1.16425252e-01,  2.31613561e-01,\n",
              "         3.08432157e-03],\n",
              "       [ 2.12285398e+00, -2.10854885e-01,  1.53515885e-01,\n",
              "         5.26124332e-02],\n",
              "       [ 2.38756440e+00,  4.62519251e-01, -4.52023961e-01,\n",
              "        -2.29906877e-01],\n",
              "       [ 2.84096093e+00,  3.72742591e-01, -5.01031539e-01,\n",
              "        -2.02166254e-02],\n",
              "       [ 3.23234290e+00,  1.37052404e+00, -1.18448777e-01,\n",
              "        -2.54487344e-01],\n",
              "       [ 2.15873837e+00, -2.18325532e-01,  2.08421976e-01,\n",
              "         1.27724489e-01],\n",
              "       [ 1.44310260e+00, -1.43801289e-01, -1.54082971e-01,\n",
              "        -1.89925864e-01],\n",
              "       [ 1.77964011e+00, -5.01464795e-01, -1.75811186e-01,\n",
              "        -5.03529453e-01],\n",
              "       [ 3.07652162e+00,  6.85764442e-01, -3.36422741e-01,\n",
              "         3.10589092e-01],\n",
              "       [ 2.14498686e+00,  1.38906609e-01,  7.34184739e-01,\n",
              "         5.17665351e-02],\n",
              "       [ 1.90486293e+00,  4.80475082e-02,  1.60470631e-01,\n",
              "        -2.21980142e-01],\n",
              "       [ 1.16885347e+00, -1.64502500e-01,  2.82460881e-01,\n",
              "         1.93307656e-02],\n",
              "       [ 2.10765373e+00,  3.71482249e-01,  2.74378565e-02,\n",
              "         2.09955199e-01],\n",
              "       [ 2.31430339e+00,  1.82608851e-01,  3.22860401e-01,\n",
              "         2.75896660e-01],\n",
              "       [ 1.92245088e+00,  4.09271176e-01,  1.15492816e-01,\n",
              "         5.04095007e-01],\n",
              "       [ 1.41407223e+00, -5.74925056e-01,  2.96398224e-01,\n",
              "        -1.56954783e-02],\n",
              "       [ 2.56332271e+00,  2.75974502e-01,  2.91253613e-01,\n",
              "         5.61849270e-02],\n",
              "       [ 2.41939122e+00,  3.03503938e-01,  5.04302517e-01,\n",
              "         2.38217947e-01],\n",
              "       [ 1.94401705e+00,  1.87415222e-01,  1.79302871e-01,\n",
              "         4.25081634e-01],\n",
              "       [ 1.52566363e+00, -3.75020848e-01, -1.20636441e-01,\n",
              "         2.55722565e-01],\n",
              "       [ 1.76404594e+00,  7.85191864e-02,  1.30784053e-01,\n",
              "         1.36294556e-01],\n",
              "       [ 1.90162908e+00,  1.15876748e-01,  7.22873561e-01,\n",
              "         4.08728218e-02],\n",
              "       [ 1.38966613e+00, -2.82886709e-01,  3.62317832e-01,\n",
              "        -1.56310385e-01]])"
            ]
          },
          "metadata": {},
          "execution_count": 12
        }
      ]
    },
    {
      "cell_type": "code",
      "source": [
        "PCAdf = pd.DataFrame(new_axis, columns = ['PCA1','PCA2','PCA3','PCA4'])\n",
        "PCAdf"
      ],
      "metadata": {
        "colab": {
          "base_uri": "https://localhost:8080/",
          "height": 447
        },
        "id": "bvwLymf41LKY",
        "outputId": "7217f44d-e8f8-49ef-ba60-0915069d26cc"
      },
      "execution_count": 13,
      "outputs": [
        {
          "output_type": "execute_result",
          "data": {
            "text/html": [
              "\n",
              "  <div id=\"df-bff6e185-b3c5-402d-89a3-cd4483766277\">\n",
              "    <div class=\"colab-df-container\">\n",
              "      <div>\n",
              "<style scoped>\n",
              "    .dataframe tbody tr th:only-of-type {\n",
              "        vertical-align: middle;\n",
              "    }\n",
              "\n",
              "    .dataframe tbody tr th {\n",
              "        vertical-align: top;\n",
              "    }\n",
              "\n",
              "    .dataframe thead th {\n",
              "        text-align: right;\n",
              "    }\n",
              "</style>\n",
              "<table border=\"1\" class=\"dataframe\">\n",
              "  <thead>\n",
              "    <tr style=\"text-align: right;\">\n",
              "      <th></th>\n",
              "      <th>PCA1</th>\n",
              "      <th>PCA2</th>\n",
              "      <th>PCA3</th>\n",
              "      <th>PCA4</th>\n",
              "    </tr>\n",
              "  </thead>\n",
              "  <tbody>\n",
              "    <tr>\n",
              "      <th>0</th>\n",
              "      <td>-2.684207</td>\n",
              "      <td>0.326607</td>\n",
              "      <td>-0.021512</td>\n",
              "      <td>0.001006</td>\n",
              "    </tr>\n",
              "    <tr>\n",
              "      <th>1</th>\n",
              "      <td>-2.715391</td>\n",
              "      <td>-0.169557</td>\n",
              "      <td>-0.203521</td>\n",
              "      <td>0.099602</td>\n",
              "    </tr>\n",
              "    <tr>\n",
              "      <th>2</th>\n",
              "      <td>-2.889820</td>\n",
              "      <td>-0.137346</td>\n",
              "      <td>0.024709</td>\n",
              "      <td>0.019305</td>\n",
              "    </tr>\n",
              "    <tr>\n",
              "      <th>3</th>\n",
              "      <td>-2.746437</td>\n",
              "      <td>-0.311124</td>\n",
              "      <td>0.037672</td>\n",
              "      <td>-0.075955</td>\n",
              "    </tr>\n",
              "    <tr>\n",
              "      <th>4</th>\n",
              "      <td>-2.728593</td>\n",
              "      <td>0.333925</td>\n",
              "      <td>0.096230</td>\n",
              "      <td>-0.063129</td>\n",
              "    </tr>\n",
              "    <tr>\n",
              "      <th>...</th>\n",
              "      <td>...</td>\n",
              "      <td>...</td>\n",
              "      <td>...</td>\n",
              "      <td>...</td>\n",
              "    </tr>\n",
              "    <tr>\n",
              "      <th>145</th>\n",
              "      <td>1.944017</td>\n",
              "      <td>0.187415</td>\n",
              "      <td>0.179303</td>\n",
              "      <td>0.425082</td>\n",
              "    </tr>\n",
              "    <tr>\n",
              "      <th>146</th>\n",
              "      <td>1.525664</td>\n",
              "      <td>-0.375021</td>\n",
              "      <td>-0.120636</td>\n",
              "      <td>0.255723</td>\n",
              "    </tr>\n",
              "    <tr>\n",
              "      <th>147</th>\n",
              "      <td>1.764046</td>\n",
              "      <td>0.078519</td>\n",
              "      <td>0.130784</td>\n",
              "      <td>0.136295</td>\n",
              "    </tr>\n",
              "    <tr>\n",
              "      <th>148</th>\n",
              "      <td>1.901629</td>\n",
              "      <td>0.115877</td>\n",
              "      <td>0.722874</td>\n",
              "      <td>0.040873</td>\n",
              "    </tr>\n",
              "    <tr>\n",
              "      <th>149</th>\n",
              "      <td>1.389666</td>\n",
              "      <td>-0.282887</td>\n",
              "      <td>0.362318</td>\n",
              "      <td>-0.156310</td>\n",
              "    </tr>\n",
              "  </tbody>\n",
              "</table>\n",
              "<p>150 rows × 4 columns</p>\n",
              "</div>\n",
              "      <button class=\"colab-df-convert\" onclick=\"convertToInteractive('df-bff6e185-b3c5-402d-89a3-cd4483766277')\"\n",
              "              title=\"Convert this dataframe to an interactive table.\"\n",
              "              style=\"display:none;\">\n",
              "        \n",
              "  <svg xmlns=\"http://www.w3.org/2000/svg\" height=\"24px\"viewBox=\"0 0 24 24\"\n",
              "       width=\"24px\">\n",
              "    <path d=\"M0 0h24v24H0V0z\" fill=\"none\"/>\n",
              "    <path d=\"M18.56 5.44l.94 2.06.94-2.06 2.06-.94-2.06-.94-.94-2.06-.94 2.06-2.06.94zm-11 1L8.5 8.5l.94-2.06 2.06-.94-2.06-.94L8.5 2.5l-.94 2.06-2.06.94zm10 10l.94 2.06.94-2.06 2.06-.94-2.06-.94-.94-2.06-.94 2.06-2.06.94z\"/><path d=\"M17.41 7.96l-1.37-1.37c-.4-.4-.92-.59-1.43-.59-.52 0-1.04.2-1.43.59L10.3 9.45l-7.72 7.72c-.78.78-.78 2.05 0 2.83L4 21.41c.39.39.9.59 1.41.59.51 0 1.02-.2 1.41-.59l7.78-7.78 2.81-2.81c.8-.78.8-2.07 0-2.86zM5.41 20L4 18.59l7.72-7.72 1.47 1.35L5.41 20z\"/>\n",
              "  </svg>\n",
              "      </button>\n",
              "      \n",
              "  <style>\n",
              "    .colab-df-container {\n",
              "      display:flex;\n",
              "      flex-wrap:wrap;\n",
              "      gap: 12px;\n",
              "    }\n",
              "\n",
              "    .colab-df-convert {\n",
              "      background-color: #E8F0FE;\n",
              "      border: none;\n",
              "      border-radius: 50%;\n",
              "      cursor: pointer;\n",
              "      display: none;\n",
              "      fill: #1967D2;\n",
              "      height: 32px;\n",
              "      padding: 0 0 0 0;\n",
              "      width: 32px;\n",
              "    }\n",
              "\n",
              "    .colab-df-convert:hover {\n",
              "      background-color: #E2EBFA;\n",
              "      box-shadow: 0px 1px 2px rgba(60, 64, 67, 0.3), 0px 1px 3px 1px rgba(60, 64, 67, 0.15);\n",
              "      fill: #174EA6;\n",
              "    }\n",
              "\n",
              "    [theme=dark] .colab-df-convert {\n",
              "      background-color: #3B4455;\n",
              "      fill: #D2E3FC;\n",
              "    }\n",
              "\n",
              "    [theme=dark] .colab-df-convert:hover {\n",
              "      background-color: #434B5C;\n",
              "      box-shadow: 0px 1px 3px 1px rgba(0, 0, 0, 0.15);\n",
              "      filter: drop-shadow(0px 1px 2px rgba(0, 0, 0, 0.3));\n",
              "      fill: #FFFFFF;\n",
              "    }\n",
              "  </style>\n",
              "\n",
              "      <script>\n",
              "        const buttonEl =\n",
              "          document.querySelector('#df-bff6e185-b3c5-402d-89a3-cd4483766277 button.colab-df-convert');\n",
              "        buttonEl.style.display =\n",
              "          google.colab.kernel.accessAllowed ? 'block' : 'none';\n",
              "\n",
              "        async function convertToInteractive(key) {\n",
              "          const element = document.querySelector('#df-bff6e185-b3c5-402d-89a3-cd4483766277');\n",
              "          const dataTable =\n",
              "            await google.colab.kernel.invokeFunction('convertToInteractive',\n",
              "                                                     [key], {});\n",
              "          if (!dataTable) return;\n",
              "\n",
              "          const docLinkHtml = 'Like what you see? Visit the ' +\n",
              "            '<a target=\"_blank\" href=https://colab.research.google.com/notebooks/data_table.ipynb>data table notebook</a>'\n",
              "            + ' to learn more about interactive tables.';\n",
              "          element.innerHTML = '';\n",
              "          dataTable['output_type'] = 'display_data';\n",
              "          await google.colab.output.renderOutput(dataTable, element);\n",
              "          const docLink = document.createElement('div');\n",
              "          docLink.innerHTML = docLinkHtml;\n",
              "          element.appendChild(docLink);\n",
              "        }\n",
              "      </script>\n",
              "    </div>\n",
              "  </div>\n",
              "  "
            ],
            "text/plain": [
              "         PCA1      PCA2      PCA3      PCA4\n",
              "0   -2.684207  0.326607 -0.021512  0.001006\n",
              "1   -2.715391 -0.169557 -0.203521  0.099602\n",
              "2   -2.889820 -0.137346  0.024709  0.019305\n",
              "3   -2.746437 -0.311124  0.037672 -0.075955\n",
              "4   -2.728593  0.333925  0.096230 -0.063129\n",
              "..        ...       ...       ...       ...\n",
              "145  1.944017  0.187415  0.179303  0.425082\n",
              "146  1.525664 -0.375021 -0.120636  0.255723\n",
              "147  1.764046  0.078519  0.130784  0.136295\n",
              "148  1.901629  0.115877  0.722874  0.040873\n",
              "149  1.389666 -0.282887  0.362318 -0.156310\n",
              "\n",
              "[150 rows x 4 columns]"
            ]
          },
          "metadata": {},
          "execution_count": 13
        }
      ]
    },
    {
      "cell_type": "code",
      "source": [
        "pca.explained_variance_ratio_"
      ],
      "metadata": {
        "colab": {
          "base_uri": "https://localhost:8080/"
        },
        "id": "SsI005LK1mM_",
        "outputId": "edd4fb9b-72e4-4b2a-c0d4-b4ca4441e9c5"
      },
      "execution_count": 14,
      "outputs": [
        {
          "output_type": "execute_result",
          "data": {
            "text/plain": [
              "array([0.92461621, 0.05301557, 0.01718514, 0.00518309])"
            ]
          },
          "metadata": {},
          "execution_count": 14
        }
      ]
    },
    {
      "cell_type": "markdown",
      "source": [
        "### plot PCA data"
      ],
      "metadata": {
        "id": "88sKIuSU2fUV"
      }
    },
    {
      "cell_type": "code",
      "source": [
        "from matplotlib import pyplot as plt"
      ],
      "metadata": {
        "id": "k9RaV1yI21W8"
      },
      "execution_count": 15,
      "outputs": []
    },
    {
      "cell_type": "code",
      "source": [
        "example_df2 = example_df.replace({'Iris-setosa':'r', 'Iris-versicolor':'g', 'Iris-virginica':'b'})"
      ],
      "metadata": {
        "id": "KOL262OE3WDq"
      },
      "execution_count": 18,
      "outputs": []
    },
    {
      "cell_type": "code",
      "source": [
        "plt.scatter(PCAdf['PCA1'],PCAdf['PCA2'],c=example_df2['Name'])"
      ],
      "metadata": {
        "colab": {
          "base_uri": "https://localhost:8080/",
          "height": 307
        },
        "id": "EUDbGqRy2Cdz",
        "outputId": "a30e8ddb-0240-473c-d3be-a348442eafca"
      },
      "execution_count": 19,
      "outputs": [
        {
          "output_type": "execute_result",
          "data": {
            "text/plain": [
              "<matplotlib.collections.PathCollection at 0x7f0b9e1f2e50>"
            ]
          },
          "metadata": {},
          "execution_count": 19
        },
        {
          "output_type": "display_data",
          "data": {
            "image/png": "[encoded data removed]",
            "text/plain": [
              "<Figure size 432x288 with 1 Axes>"
            ]
          },
          "metadata": {
            "needs_background": "light"
          }
        }
      ]
    },
    {
      "cell_type": "code",
      "source": [
        "plt.scatter(example_df2['SepalWidth'],example_df2['PetalWidth'],c=example_df2['Name'])"
      ],
      "metadata": {
        "colab": {
          "base_uri": "https://localhost:8080/",
          "height": 303
        },
        "id": "xMQZq_5P3MIh",
        "outputId": "2692625c-fd7e-4f38-c0a1-334c6619b0d6"
      },
      "execution_count": 20,
      "outputs": [
        {
          "output_type": "execute_result",
          "data": {
            "text/plain": [
              "<matplotlib.collections.PathCollection at 0x7f0b9e16ea50>"
            ]
          },
          "metadata": {},
          "execution_count": 20
        },
        {
          "output_type": "display_data",
          "data": {
            "image/png": "[encoded data removed]",
            "text/plain": [
              "<Figure size 432x288 with 1 Axes>"
            ]
          },
          "metadata": {
            "needs_background": "light"
          }
        }
      ]
    },
    {
      "cell_type": "code",
      "source": [
        ""
      ],
      "metadata": {
        "id": "_yIZEpyl5DgR"
      },
      "execution_count": null,
      "outputs": []
    }
  ]
}