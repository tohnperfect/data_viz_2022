{
  "nbformat": 4,
  "nbformat_minor": 0,
  "metadata": {
    "colab": {
      "name": "DataViz04 Data Comparison.ipynb",
      "provenance": [],
      "authorship_tag": "ABX9TyOxJVDE4VMlY4VO8klq9USK",
      "include_colab_link": true
    },
    "kernelspec": {
      "name": "python3",
      "display_name": "Python 3"
    },
    "language_info": {
      "name": "python"
    }
  },
  "cells": [
    {
      "cell_type": "markdown",
      "metadata": {
        "id": "view-in-github",
        "colab_type": "text"
      },
      "source": [
        "<a href=\"https://colab.research.google.com/github/tohnperfect/data_viz_2022/blob/main/DataViz04_Data_Comparison.ipynb\" target=\"_parent\"><img src=\"https://colab.research.google.com/assets/colab-badge.svg\" alt=\"Open In Colab\"/></a>"
      ]
    },
    {
      "cell_type": "markdown",
      "source": [
        "# เปรียบเทียบ ข้อมูล ด้วย coordinate plot"
      ],
      "metadata": {
        "id": "U-DWuFJZ6F0y"
      }
    },
    {
      "cell_type": "code",
      "source": [
        "import pandas as pd"
      ],
      "metadata": {
        "id": "dilOnoj66aJp"
      },
      "execution_count": 1,
      "outputs": []
    },
    {
      "cell_type": "code",
      "execution_count": 2,
      "metadata": {
        "colab": {
          "base_uri": "https://localhost:8080/",
          "height": 447
        },
        "id": "TZtrMAgp5vXn",
        "outputId": "e07a7ece-5a98-4162-afb2-125b58c1eaa0"
      },
      "outputs": [
        {
          "output_type": "execute_result",
          "data": {
            "text/html": [
              "\n",
              "  <div id=\"df-72035724-5811-471f-9296-577c51491995\">\n",
              "    <div class=\"colab-df-container\">\n",
              "      <div>\n",
              "<style scoped>\n",
              "    .dataframe tbody tr th:only-of-type {\n",
              "        vertical-align: middle;\n",
              "    }\n",
              "\n",
              "    .dataframe tbody tr th {\n",
              "        vertical-align: top;\n",
              "    }\n",
              "\n",
              "    .dataframe thead th {\n",
              "        text-align: right;\n",
              "    }\n",
              "</style>\n",
              "<table border=\"1\" class=\"dataframe\">\n",
              "  <thead>\n",
              "    <tr style=\"text-align: right;\">\n",
              "      <th></th>\n",
              "      <th>SepalLength</th>\n",
              "      <th>SepalWidth</th>\n",
              "      <th>PetalLength</th>\n",
              "      <th>PetalWidth</th>\n",
              "      <th>Name</th>\n",
              "    </tr>\n",
              "  </thead>\n",
              "  <tbody>\n",
              "    <tr>\n",
              "      <th>0</th>\n",
              "      <td>5.1</td>\n",
              "      <td>3.5</td>\n",
              "      <td>1.4</td>\n",
              "      <td>0.2</td>\n",
              "      <td>Iris-setosa</td>\n",
              "    </tr>\n",
              "    <tr>\n",
              "      <th>1</th>\n",
              "      <td>4.9</td>\n",
              "      <td>3.0</td>\n",
              "      <td>1.4</td>\n",
              "      <td>0.2</td>\n",
              "      <td>Iris-setosa</td>\n",
              "    </tr>\n",
              "    <tr>\n",
              "      <th>2</th>\n",
              "      <td>4.7</td>\n",
              "      <td>3.2</td>\n",
              "      <td>1.3</td>\n",
              "      <td>0.2</td>\n",
              "      <td>Iris-setosa</td>\n",
              "    </tr>\n",
              "    <tr>\n",
              "      <th>3</th>\n",
              "      <td>4.6</td>\n",
              "      <td>3.1</td>\n",
              "      <td>1.5</td>\n",
              "      <td>0.2</td>\n",
              "      <td>Iris-setosa</td>\n",
              "    </tr>\n",
              "    <tr>\n",
              "      <th>4</th>\n",
              "      <td>5.0</td>\n",
              "      <td>3.6</td>\n",
              "      <td>1.4</td>\n",
              "      <td>0.2</td>\n",
              "      <td>Iris-setosa</td>\n",
              "    </tr>\n",
              "    <tr>\n",
              "      <th>...</th>\n",
              "      <td>...</td>\n",
              "      <td>...</td>\n",
              "      <td>...</td>\n",
              "      <td>...</td>\n",
              "      <td>...</td>\n",
              "    </tr>\n",
              "    <tr>\n",
              "      <th>145</th>\n",
              "      <td>6.7</td>\n",
              "      <td>3.0</td>\n",
              "      <td>5.2</td>\n",
              "      <td>2.3</td>\n",
              "      <td>Iris-virginica</td>\n",
              "    </tr>\n",
              "    <tr>\n",
              "      <th>146</th>\n",
              "      <td>6.3</td>\n",
              "      <td>2.5</td>\n",
              "      <td>5.0</td>\n",
              "      <td>1.9</td>\n",
              "      <td>Iris-virginica</td>\n",
              "    </tr>\n",
              "    <tr>\n",
              "      <th>147</th>\n",
              "      <td>6.5</td>\n",
              "      <td>3.0</td>\n",
              "      <td>5.2</td>\n",
              "      <td>2.0</td>\n",
              "      <td>Iris-virginica</td>\n",
              "    </tr>\n",
              "    <tr>\n",
              "      <th>148</th>\n",
              "      <td>6.2</td>\n",
              "      <td>3.4</td>\n",
              "      <td>5.4</td>\n",
              "      <td>2.3</td>\n",
              "      <td>Iris-virginica</td>\n",
              "    </tr>\n",
              "    <tr>\n",
              "      <th>149</th>\n",
              "      <td>5.9</td>\n",
              "      <td>3.0</td>\n",
              "      <td>5.1</td>\n",
              "      <td>1.8</td>\n",
              "      <td>Iris-virginica</td>\n",
              "    </tr>\n",
              "  </tbody>\n",
              "</table>\n",
              "<p>150 rows × 5 columns</p>\n",
              "</div>\n",
              "      <button class=\"colab-df-convert\" onclick=\"convertToInteractive('df-72035724-5811-471f-9296-577c51491995')\"\n",
              "              title=\"Convert this dataframe to an interactive table.\"\n",
              "              style=\"display:none;\">\n",
              "        \n",
              "  <svg xmlns=\"http://www.w3.org/2000/svg\" height=\"24px\"viewBox=\"0 0 24 24\"\n",
              "       width=\"24px\">\n",
              "    <path d=\"M0 0h24v24H0V0z\" fill=\"none\"/>\n",
              "    <path d=\"M18.56 5.44l.94 2.06.94-2.06 2.06-.94-2.06-.94-.94-2.06-.94 2.06-2.06.94zm-11 1L8.5 8.5l.94-2.06 2.06-.94-2.06-.94L8.5 2.5l-.94 2.06-2.06.94zm10 10l.94 2.06.94-2.06 2.06-.94-2.06-.94-.94-2.06-.94 2.06-2.06.94z\"/><path d=\"M17.41 7.96l-1.37-1.37c-.4-.4-.92-.59-1.43-.59-.52 0-1.04.2-1.43.59L10.3 9.45l-7.72 7.72c-.78.78-.78 2.05 0 2.83L4 21.41c.39.39.9.59 1.41.59.51 0 1.02-.2 1.41-.59l7.78-7.78 2.81-2.81c.8-.78.8-2.07 0-2.86zM5.41 20L4 18.59l7.72-7.72 1.47 1.35L5.41 20z\"/>\n",
              "  </svg>\n",
              "      </button>\n",
              "      \n",
              "  <style>\n",
              "    .colab-df-container {\n",
              "      display:flex;\n",
              "      flex-wrap:wrap;\n",
              "      gap: 12px;\n",
              "    }\n",
              "\n",
              "    .colab-df-convert {\n",
              "      background-color: #E8F0FE;\n",
              "      border: none;\n",
              "      border-radius: 50%;\n",
              "      cursor: pointer;\n",
              "      display: none;\n",
              "      fill: #1967D2;\n",
              "      height: 32px;\n",
              "      padding: 0 0 0 0;\n",
              "      width: 32px;\n",
              "    }\n",
              "\n",
              "    .colab-df-convert:hover {\n",
              "      background-color: #E2EBFA;\n",
              "      box-shadow: 0px 1px 2px rgba(60, 64, 67, 0.3), 0px 1px 3px 1px rgba(60, 64, 67, 0.15);\n",
              "      fill: #174EA6;\n",
              "    }\n",
              "\n",
              "    [theme=dark] .colab-df-convert {\n",
              "      background-color: #3B4455;\n",
              "      fill: #D2E3FC;\n",
              "    }\n",
              "\n",
              "    [theme=dark] .colab-df-convert:hover {\n",
              "      background-color: #434B5C;\n",
              "      box-shadow: 0px 1px 3px 1px rgba(0, 0, 0, 0.15);\n",
              "      filter: drop-shadow(0px 1px 2px rgba(0, 0, 0, 0.3));\n",
              "      fill: #FFFFFF;\n",
              "    }\n",
              "  </style>\n",
              "\n",
              "      <script>\n",
              "        const buttonEl =\n",
              "          document.querySelector('#df-72035724-5811-471f-9296-577c51491995 button.colab-df-convert');\n",
              "        buttonEl.style.display =\n",
              "          google.colab.kernel.accessAllowed ? 'block' : 'none';\n",
              "\n",
              "        async function convertToInteractive(key) {\n",
              "          const element = document.querySelector('#df-72035724-5811-471f-9296-577c51491995');\n",
              "          const dataTable =\n",
              "            await google.colab.kernel.invokeFunction('convertToInteractive',\n",
              "                                                     [key], {});\n",
              "          if (!dataTable) return;\n",
              "\n",
              "          const docLinkHtml = 'Like what you see? Visit the ' +\n",
              "            '<a target=\"_blank\" href=https://colab.research.google.com/notebooks/data_table.ipynb>data table notebook</a>'\n",
              "            + ' to learn more about interactive tables.';\n",
              "          element.innerHTML = '';\n",
              "          dataTable['output_type'] = 'display_data';\n",
              "          await google.colab.output.renderOutput(dataTable, element);\n",
              "          const docLink = document.createElement('div');\n",
              "          docLink.innerHTML = docLinkHtml;\n",
              "          element.appendChild(docLink);\n",
              "        }\n",
              "      </script>\n",
              "    </div>\n",
              "  </div>\n",
              "  "
            ],
            "text/plain": [
              "     SepalLength  SepalWidth  PetalLength  PetalWidth            Name\n",
              "0            5.1         3.5          1.4         0.2     Iris-setosa\n",
              "1            4.9         3.0          1.4         0.2     Iris-setosa\n",
              "2            4.7         3.2          1.3         0.2     Iris-setosa\n",
              "3            4.6         3.1          1.5         0.2     Iris-setosa\n",
              "4            5.0         3.6          1.4         0.2     Iris-setosa\n",
              "..           ...         ...          ...         ...             ...\n",
              "145          6.7         3.0          5.2         2.3  Iris-virginica\n",
              "146          6.3         2.5          5.0         1.9  Iris-virginica\n",
              "147          6.5         3.0          5.2         2.0  Iris-virginica\n",
              "148          6.2         3.4          5.4         2.3  Iris-virginica\n",
              "149          5.9         3.0          5.1         1.8  Iris-virginica\n",
              "\n",
              "[150 rows x 5 columns]"
            ]
          },
          "metadata": {},
          "execution_count": 2
        }
      ],
      "source": [
        "example_df = pd.read_csv('https://raw.github.com/pandas-dev/pandas/master/pandas/tests/io/data/csv/iris.csv')\n",
        "example_df"
      ]
    },
    {
      "cell_type": "code",
      "source": [
        "sample_data = example_df.groupby('Name').mean()"
      ],
      "metadata": {
        "id": "hrCxucSd6czN"
      },
      "execution_count": 3,
      "outputs": []
    },
    {
      "cell_type": "code",
      "source": [
        "sample_data"
      ],
      "metadata": {
        "colab": {
          "base_uri": "https://localhost:8080/",
          "height": 196
        },
        "id": "-3htsk206s4K",
        "outputId": "bbbaabea-b416-42fc-d353-0b96008264f0"
      },
      "execution_count": 4,
      "outputs": [
        {
          "output_type": "execute_result",
          "data": {
            "text/html": [
              "\n",
              "  <div id=\"df-016a767d-80c8-422a-96fd-c8dfafdee03e\">\n",
              "    <div class=\"colab-df-container\">\n",
              "      <div>\n",
              "<style scoped>\n",
              "    .dataframe tbody tr th:only-of-type {\n",
              "        vertical-align: middle;\n",
              "    }\n",
              "\n",
              "    .dataframe tbody tr th {\n",
              "        vertical-align: top;\n",
              "    }\n",
              "\n",
              "    .dataframe thead th {\n",
              "        text-align: right;\n",
              "    }\n",
              "</style>\n",
              "<table border=\"1\" class=\"dataframe\">\n",
              "  <thead>\n",
              "    <tr style=\"text-align: right;\">\n",
              "      <th></th>\n",
              "      <th>SepalLength</th>\n",
              "      <th>SepalWidth</th>\n",
              "      <th>PetalLength</th>\n",
              "      <th>PetalWidth</th>\n",
              "    </tr>\n",
              "    <tr>\n",
              "      <th>Name</th>\n",
              "      <th></th>\n",
              "      <th></th>\n",
              "      <th></th>\n",
              "      <th></th>\n",
              "    </tr>\n",
              "  </thead>\n",
              "  <tbody>\n",
              "    <tr>\n",
              "      <th>Iris-setosa</th>\n",
              "      <td>5.006</td>\n",
              "      <td>3.418</td>\n",
              "      <td>1.464</td>\n",
              "      <td>0.244</td>\n",
              "    </tr>\n",
              "    <tr>\n",
              "      <th>Iris-versicolor</th>\n",
              "      <td>5.936</td>\n",
              "      <td>2.770</td>\n",
              "      <td>4.260</td>\n",
              "      <td>1.326</td>\n",
              "    </tr>\n",
              "    <tr>\n",
              "      <th>Iris-virginica</th>\n",
              "      <td>6.588</td>\n",
              "      <td>2.974</td>\n",
              "      <td>5.552</td>\n",
              "      <td>2.026</td>\n",
              "    </tr>\n",
              "  </tbody>\n",
              "</table>\n",
              "</div>\n",
              "      <button class=\"colab-df-convert\" onclick=\"convertToInteractive('df-016a767d-80c8-422a-96fd-c8dfafdee03e')\"\n",
              "              title=\"Convert this dataframe to an interactive table.\"\n",
              "              style=\"display:none;\">\n",
              "        \n",
              "  <svg xmlns=\"http://www.w3.org/2000/svg\" height=\"24px\"viewBox=\"0 0 24 24\"\n",
              "       width=\"24px\">\n",
              "    <path d=\"M0 0h24v24H0V0z\" fill=\"none\"/>\n",
              "    <path d=\"M18.56 5.44l.94 2.06.94-2.06 2.06-.94-2.06-.94-.94-2.06-.94 2.06-2.06.94zm-11 1L8.5 8.5l.94-2.06 2.06-.94-2.06-.94L8.5 2.5l-.94 2.06-2.06.94zm10 10l.94 2.06.94-2.06 2.06-.94-2.06-.94-.94-2.06-.94 2.06-2.06.94z\"/><path d=\"M17.41 7.96l-1.37-1.37c-.4-.4-.92-.59-1.43-.59-.52 0-1.04.2-1.43.59L10.3 9.45l-7.72 7.72c-.78.78-.78 2.05 0 2.83L4 21.41c.39.39.9.59 1.41.59.51 0 1.02-.2 1.41-.59l7.78-7.78 2.81-2.81c.8-.78.8-2.07 0-2.86zM5.41 20L4 18.59l7.72-7.72 1.47 1.35L5.41 20z\"/>\n",
              "  </svg>\n",
              "      </button>\n",
              "      \n",
              "  <style>\n",
              "    .colab-df-container {\n",
              "      display:flex;\n",
              "      flex-wrap:wrap;\n",
              "      gap: 12px;\n",
              "    }\n",
              "\n",
              "    .colab-df-convert {\n",
              "      background-color: #E8F0FE;\n",
              "      border: none;\n",
              "      border-radius: 50%;\n",
              "      cursor: pointer;\n",
              "      display: none;\n",
              "      fill: #1967D2;\n",
              "      height: 32px;\n",
              "      padding: 0 0 0 0;\n",
              "      width: 32px;\n",
              "    }\n",
              "\n",
              "    .colab-df-convert:hover {\n",
              "      background-color: #E2EBFA;\n",
              "      box-shadow: 0px 1px 2px rgba(60, 64, 67, 0.3), 0px 1px 3px 1px rgba(60, 64, 67, 0.15);\n",
              "      fill: #174EA6;\n",
              "    }\n",
              "\n",
              "    [theme=dark] .colab-df-convert {\n",
              "      background-color: #3B4455;\n",
              "      fill: #D2E3FC;\n",
              "    }\n",
              "\n",
              "    [theme=dark] .colab-df-convert:hover {\n",
              "      background-color: #434B5C;\n",
              "      box-shadow: 0px 1px 3px 1px rgba(0, 0, 0, 0.15);\n",
              "      filter: drop-shadow(0px 1px 2px rgba(0, 0, 0, 0.3));\n",
              "      fill: #FFFFFF;\n",
              "    }\n",
              "  </style>\n",
              "\n",
              "      <script>\n",
              "        const buttonEl =\n",
              "          document.querySelector('#df-016a767d-80c8-422a-96fd-c8dfafdee03e button.colab-df-convert');\n",
              "        buttonEl.style.display =\n",
              "          google.colab.kernel.accessAllowed ? 'block' : 'none';\n",
              "\n",
              "        async function convertToInteractive(key) {\n",
              "          const element = document.querySelector('#df-016a767d-80c8-422a-96fd-c8dfafdee03e');\n",
              "          const dataTable =\n",
              "            await google.colab.kernel.invokeFunction('convertToInteractive',\n",
              "                                                     [key], {});\n",
              "          if (!dataTable) return;\n",
              "\n",
              "          const docLinkHtml = 'Like what you see? Visit the ' +\n",
              "            '<a target=\"_blank\" href=https://colab.research.google.com/notebooks/data_table.ipynb>data table notebook</a>'\n",
              "            + ' to learn more about interactive tables.';\n",
              "          element.innerHTML = '';\n",
              "          dataTable['output_type'] = 'display_data';\n",
              "          await google.colab.output.renderOutput(dataTable, element);\n",
              "          const docLink = document.createElement('div');\n",
              "          docLink.innerHTML = docLinkHtml;\n",
              "          element.appendChild(docLink);\n",
              "        }\n",
              "      </script>\n",
              "    </div>\n",
              "  </div>\n",
              "  "
            ],
            "text/plain": [
              "                 SepalLength  SepalWidth  PetalLength  PetalWidth\n",
              "Name                                                             \n",
              "Iris-setosa            5.006       3.418        1.464       0.244\n",
              "Iris-versicolor        5.936       2.770        4.260       1.326\n",
              "Iris-virginica         6.588       2.974        5.552       2.026"
            ]
          },
          "metadata": {},
          "execution_count": 4
        }
      ]
    },
    {
      "cell_type": "code",
      "source": [
        "sample_data.iloc[0,:]"
      ],
      "metadata": {
        "colab": {
          "base_uri": "https://localhost:8080/"
        },
        "id": "g7QRAXVI7qRw",
        "outputId": "ddbb7e36-4a9e-417c-ac6f-8dfd6eb6aead"
      },
      "execution_count": 5,
      "outputs": [
        {
          "output_type": "execute_result",
          "data": {
            "text/plain": [
              "SepalLength    5.006\n",
              "SepalWidth     3.418\n",
              "PetalLength    1.464\n",
              "PetalWidth     0.244\n",
              "Name: Iris-setosa, dtype: float64"
            ]
          },
          "metadata": {},
          "execution_count": 5
        }
      ]
    },
    {
      "cell_type": "code",
      "source": [
        "from matplotlib import pyplot as plt"
      ],
      "metadata": {
        "id": "fhkmtlk27SJJ"
      },
      "execution_count": 6,
      "outputs": []
    },
    {
      "cell_type": "code",
      "source": [
        "plt.plot([1,2,3,4],sample_data.iloc[0,:],'ro')\n",
        "plt.plot([1,2,3,4],sample_data.iloc[1,:],'g*')\n",
        "plt.plot([1,2,3,4],sample_data.iloc[2,:],'b^')"
      ],
      "metadata": {
        "colab": {
          "base_uri": "https://localhost:8080/",
          "height": 303
        },
        "id": "jUWmVJVH6udj",
        "outputId": "be0ec9c3-e9bd-4cb0-c84b-1e7f7d447b75"
      },
      "execution_count": 7,
      "outputs": [
        {
          "output_type": "execute_result",
          "data": {
            "text/plain": [
              "[<matplotlib.lines.Line2D at 0x7f11bfaa49d0>]"
            ]
          },
          "metadata": {},
          "execution_count": 7
        },
        {
          "output_type": "display_data",
          "data": {
            "image/png": "[encoded data removed]",
            "text/plain": [
              "<Figure size 432x288 with 1 Axes>"
            ]
          },
          "metadata": {
            "needs_background": "light"
          }
        }
      ]
    },
    {
      "cell_type": "code",
      "source": [
        "plt.plot([1,2,3,4],sample_data.iloc[0,:],'ro-')\n",
        "plt.plot([1,2,3,4],sample_data.iloc[1,:],'g*-')\n",
        "plt.plot([1,2,3,4],sample_data.iloc[2,:],'b^-')"
      ],
      "metadata": {
        "colab": {
          "base_uri": "https://localhost:8080/",
          "height": 303
        },
        "id": "eRE-gUC97_6u",
        "outputId": "03f0720d-e534-49d2-8f92-ffd2ccc37a80"
      },
      "execution_count": 8,
      "outputs": [
        {
          "output_type": "execute_result",
          "data": {
            "text/plain": [
              "[<matplotlib.lines.Line2D at 0x7f11bf58cb90>]"
            ]
          },
          "metadata": {},
          "execution_count": 8
        },
        {
          "output_type": "display_data",
          "data": {
            "image/png": "[encoded data removed]",
            "text/plain": [
              "<Figure size 432x288 with 1 Axes>"
            ]
          },
          "metadata": {
            "needs_background": "light"
          }
        }
      ]
    },
    {
      "cell_type": "code",
      "source": [
        "plt.plot([1,1],[min(sample_data.iloc[:,0]),max(sample_data.iloc[:,0])],'c:')\n",
        "plt.plot([2,2],[min(sample_data.iloc[:,1]),max(sample_data.iloc[:,1])],'c:')\n",
        "plt.plot([3,3],[min(sample_data.iloc[:,2]),max(sample_data.iloc[:,2])],'c:')\n",
        "plt.plot([4,4],[min(sample_data.iloc[:,3]),max(sample_data.iloc[:,3])],'c:')\n",
        "\n",
        "plt.plot([1,2,3,4],sample_data.iloc[0,:],'ro')\n",
        "plt.plot([1,2,3,4],sample_data.iloc[1,:],'g*')\n",
        "plt.plot([1,2,3,4],sample_data.iloc[2,:],'b^')"
      ],
      "metadata": {
        "colab": {
          "base_uri": "https://localhost:8080/",
          "height": 303
        },
        "id": "zmio4B-X8dwH",
        "outputId": "0e6ce4bd-6742-4dd8-d14b-bfa3c2e0798d"
      },
      "execution_count": 9,
      "outputs": [
        {
          "output_type": "execute_result",
          "data": {
            "text/plain": [
              "[<matplotlib.lines.Line2D at 0x7f11bf51f8d0>]"
            ]
          },
          "metadata": {},
          "execution_count": 9
        },
        {
          "output_type": "display_data",
          "data": {
            "image/png": "[encoded data removed]",
            "text/plain": [
              "<Figure size 432x288 with 1 Axes>"
            ]
          },
          "metadata": {
            "needs_background": "light"
          }
        }
      ]
    },
    {
      "cell_type": "markdown",
      "source": [
        "## การใช้ plt.plot\n",
        "`plt.plot`(`พิกัดแกน X`, `พิกัดแกน Y`, `ลักษณะของ marker + เส้นเชื่อม`)\n",
        "\n",
        "marker -> 'cML'"
      ],
      "metadata": {
        "id": "qvv-ie05-05B"
      }
    },
    {
      "cell_type": "code",
      "source": [
        "plt.plot([1],[2],'ro')"
      ],
      "metadata": {
        "colab": {
          "base_uri": "https://localhost:8080/",
          "height": 303
        },
        "id": "_3_hqRr19cc0",
        "outputId": "b7fca743-2357-4f5c-e5e1-56459e1455d5"
      },
      "execution_count": 10,
      "outputs": [
        {
          "output_type": "execute_result",
          "data": {
            "text/plain": [
              "[<matplotlib.lines.Line2D at 0x7f11bf48add0>]"
            ]
          },
          "metadata": {},
          "execution_count": 10
        },
        {
          "output_type": "display_data",
          "data": {
            "image/png": "[encoded data removed]",
            "text/plain": [
              "<Figure size 432x288 with 1 Axes>"
            ]
          },
          "metadata": {
            "needs_background": "light"
          }
        }
      ]
    },
    {
      "cell_type": "code",
      "source": [
        "plt.plot([1,2],[2,4],'ro')"
      ],
      "metadata": {
        "colab": {
          "base_uri": "https://localhost:8080/",
          "height": 303
        },
        "id": "HBtrPnHq_d8n",
        "outputId": "0d03c070-a0f6-4df1-8868-3fe6becefc08"
      },
      "execution_count": 11,
      "outputs": [
        {
          "output_type": "execute_result",
          "data": {
            "text/plain": [
              "[<matplotlib.lines.Line2D at 0x7f11bf47d650>]"
            ]
          },
          "metadata": {},
          "execution_count": 11
        },
        {
          "output_type": "display_data",
          "data": {
            "image/png": "[encoded data removed]",
            "text/plain": [
              "<Figure size 432x288 with 1 Axes>"
            ]
          },
          "metadata": {
            "needs_background": "light"
          }
        }
      ]
    },
    {
      "cell_type": "code",
      "source": [
        "plt.plot([1,2],[2,4],'ro-.')"
      ],
      "metadata": {
        "colab": {
          "base_uri": "https://localhost:8080/",
          "height": 303
        },
        "id": "MkH1xolwAGY7",
        "outputId": "ff6e7e94-2bb0-4839-b69a-bb05d49a8dd9"
      },
      "execution_count": 12,
      "outputs": [
        {
          "output_type": "execute_result",
          "data": {
            "text/plain": [
              "[<matplotlib.lines.Line2D at 0x7f11bf3f4590>]"
            ]
          },
          "metadata": {},
          "execution_count": 12
        },
        {
          "output_type": "display_data",
          "data": {
            "image/png": "[encoded data removed]",
            "text/plain": [
              "<Figure size 432x288 with 1 Axes>"
            ]
          },
          "metadata": {
            "needs_background": "light"
          }
        }
      ]
    },
    {
      "cell_type": "code",
      "source": [
        "plt.plot([1,1],[min(sample_data.iloc[:,0]),max(sample_data.iloc[:,0])],'c:')\n",
        "plt.plot([2,2],[min(sample_data.iloc[:,1]),max(sample_data.iloc[:,1])],'c:')\n",
        "plt.plot([3,3],[min(sample_data.iloc[:,2]),max(sample_data.iloc[:,2])],'c:')\n",
        "plt.plot([4,4],[min(sample_data.iloc[:,3]),max(sample_data.iloc[:,3])],'c:')\n",
        "\n",
        "plt.plot([1,2,3,4],sample_data.iloc[0,:],'ro',label='Setosa')\n",
        "plt.plot([1,2,3,4],sample_data.iloc[1,:],'g*',label='Versicolor')\n",
        "plt.plot([1,2,3,4],sample_data.iloc[2,:],'b^',label='Virginica')\n",
        "plt.legend()"
      ],
      "metadata": {
        "colab": {
          "base_uri": "https://localhost:8080/",
          "height": 303
        },
        "id": "9nTk8RveAP85",
        "outputId": "00bd3c9a-28b8-40b1-e98e-001b6176d3f5"
      },
      "execution_count": 13,
      "outputs": [
        {
          "output_type": "execute_result",
          "data": {
            "text/plain": [
              "<matplotlib.legend.Legend at 0x7f11bf5bae10>"
            ]
          },
          "metadata": {},
          "execution_count": 13
        },
        {
          "output_type": "display_data",
          "data": {
            "image/png": "[encoded data removed]",
            "text/plain": [
              "<Figure size 432x288 with 1 Axes>"
            ]
          },
          "metadata": {
            "needs_background": "light"
          }
        }
      ]
    },
    {
      "cell_type": "code",
      "source": [
        "example_df.iloc[:,:-1].columns.tolist()"
      ],
      "metadata": {
        "colab": {
          "base_uri": "https://localhost:8080/"
        },
        "id": "0BVfq3kpBtAV",
        "outputId": "96cc2a1c-03b8-495b-d8d7-d0e53959237d"
      },
      "execution_count": 14,
      "outputs": [
        {
          "output_type": "execute_result",
          "data": {
            "text/plain": [
              "['SepalLength', 'SepalWidth', 'PetalLength', 'PetalWidth']"
            ]
          },
          "metadata": {},
          "execution_count": 14
        }
      ]
    },
    {
      "cell_type": "code",
      "source": [
        "plt.plot([1,1],[min(sample_data.iloc[:,0]),max(sample_data.iloc[:,0])],'c:')\n",
        "plt.plot([2,2],[min(sample_data.iloc[:,1]),max(sample_data.iloc[:,1])],'c:')\n",
        "plt.plot([3,3],[min(sample_data.iloc[:,2]),max(sample_data.iloc[:,2])],'c:')\n",
        "plt.plot([4,4],[min(sample_data.iloc[:,3]),max(sample_data.iloc[:,3])],'c:')\n",
        "\n",
        "plt.plot([1,2,3,4],sample_data.iloc[0,:],'ro',label='Setosa')\n",
        "plt.plot([1,2,3,4],sample_data.iloc[1,:],'g*',label='Versicolor')\n",
        "plt.plot([1,2,3,4],sample_data.iloc[2,:],'b^',label='Virginica')\n",
        "plt.legend()\n",
        "plt.xticks([1,2,3,4], example_df.iloc[:,:-1].columns.tolist(), rotation='vertical')"
      ],
      "metadata": {
        "colab": {
          "base_uri": "https://localhost:8080/",
          "height": 478
        },
        "id": "v6QD3PfeBJER",
        "outputId": "831a61fd-a4b1-45f1-8412-49a26b7e8afc"
      },
      "execution_count": 15,
      "outputs": [
        {
          "output_type": "execute_result",
          "data": {
            "text/plain": [
              "([<matplotlib.axis.XTick at 0x7f11bfb2b6d0>,\n",
              "  <matplotlib.axis.XTick at 0x7f11bfb2b750>,\n",
              "  <matplotlib.axis.XTick at 0x7f11bf4b8a90>,\n",
              "  <matplotlib.axis.XTick at 0x7f11bf29dd90>],\n",
              " [Text(0, 0, 'SepalLength'),\n",
              "  Text(0, 0, 'SepalWidth'),\n",
              "  Text(0, 0, 'PetalLength'),\n",
              "  Text(0, 0, 'PetalWidth')])"
            ]
          },
          "metadata": {},
          "execution_count": 15
        },
        {
          "output_type": "display_data",
          "data": {
            "image/png": "[encoded data removed]",
            "text/plain": [
              "<Figure size 432x288 with 1 Axes>"
            ]
          },
          "metadata": {
            "needs_background": "light"
          }
        }
      ]
    },
    {
      "cell_type": "code",
      "source": [
        "plt.plot([1,1],[min(sample_data.iloc[:,0]),max(sample_data.iloc[:,0])],'c:')\n",
        "plt.plot([2,2],[min(sample_data.iloc[:,1]),max(sample_data.iloc[:,1])],'c:')\n",
        "plt.plot([3,3],[min(sample_data.iloc[:,2]),max(sample_data.iloc[:,2])],'c:')\n",
        "plt.plot([4,4],[min(sample_data.iloc[:,3]),max(sample_data.iloc[:,3])],'c:')\n",
        "\n",
        "plt.plot([1,2,3,4],sample_data.iloc[0,:],'ro',label='Setosa')\n",
        "plt.plot([1,2,3,4],sample_data.iloc[1,:],'g*',label='Versicolor')\n",
        "plt.plot([1,2,3,4],sample_data.iloc[2,:],'b^',label='Virginica')\n",
        "plt.legend()\n",
        "plt.xticks([1,2,3,4], example_df.iloc[:,:-1].columns.tolist(), rotation='vertical')\n",
        "plt.title('Features comparison between 3 different Iris flowers');"
      ],
      "metadata": {
        "colab": {
          "base_uri": "https://localhost:8080/",
          "height": 353
        },
        "id": "lo7tZqWiCIWk",
        "outputId": "104151e7-ec63-4693-9256-d6f3a22d6cbc"
      },
      "execution_count": 16,
      "outputs": [
        {
          "output_type": "display_data",
          "data": {
            "image/png": "[encoded data removed]",
            "text/plain": [
              "<Figure size 432x288 with 1 Axes>"
            ]
          },
          "metadata": {
            "needs_background": "light"
          }
        }
      ]
    },
    {
      "cell_type": "code",
      "source": [
        "plt.plot([1,1],[min(sample_data.iloc[:,0]),max(sample_data.iloc[:,0])],'c:')\n",
        "plt.plot([2,2],[min(sample_data.iloc[:,1]),max(sample_data.iloc[:,1])],'c:')\n",
        "plt.plot([3,3],[min(sample_data.iloc[:,2]),max(sample_data.iloc[:,2])],'c:')\n",
        "plt.plot([4,4],[min(sample_data.iloc[:,3]),max(sample_data.iloc[:,3])],'c:')\n",
        "\n",
        "plt.plot([1,2,3,4],sample_data.iloc[0,:],'ro',label='Setosa')\n",
        "plt.plot([1,2,3,4],sample_data.iloc[1,:],'g*',label='Versicolor')\n",
        "plt.plot([1,2,3,4],sample_data.iloc[2,:],'b^',label='Virginica')\n",
        "\n",
        "plt.legend()\n",
        "plt.xticks([1,2,3,4], example_df.iloc[:,:-1].columns.tolist(), rotation='vertical')\n",
        "plt.title('Features comparison between 3 different Iris flowers')\n",
        "plt.ylabel('size (cm)');"
      ],
      "metadata": {
        "colab": {
          "base_uri": "https://localhost:8080/",
          "height": 353
        },
        "id": "9h2EOsSeCf2G",
        "outputId": "46764317-6018-4c05-d87b-b9056e0236f7"
      },
      "execution_count": 17,
      "outputs": [
        {
          "output_type": "display_data",
          "data": {
            "image/png": "[encoded data removed]",
            "text/plain": [
              "<Figure size 432x288 with 1 Axes>"
            ]
          },
          "metadata": {
            "needs_background": "light"
          }
        }
      ]
    },
    {
      "cell_type": "markdown",
      "source": [
        "# HW วาดรูป ก้อนเมฆ และ ฝน ด้วย plt.plot"
      ],
      "metadata": {
        "id": "fg3RZNWPDikM"
      }
    },
    {
      "cell_type": "markdown",
      "source": [
        " # Bar chart"
      ],
      "metadata": {
        "id": "dQQR_1tnXKQr"
      }
    },
    {
      "cell_type": "code",
      "source": [
        "sample_data"
      ],
      "metadata": {
        "id": "AKQ2k4XCDBCI",
        "outputId": "7450cb14-60f4-461e-bb51-d761ef764992",
        "colab": {
          "base_uri": "https://localhost:8080/",
          "height": 196
        }
      },
      "execution_count": 18,
      "outputs": [
        {
          "output_type": "execute_result",
          "data": {
            "text/html": [
              "\n",
              "  <div id=\"df-01e606a0-88b3-4bf3-bcc8-c7127516ee98\">\n",
              "    <div class=\"colab-df-container\">\n",
              "      <div>\n",
              "<style scoped>\n",
              "    .dataframe tbody tr th:only-of-type {\n",
              "        vertical-align: middle;\n",
              "    }\n",
              "\n",
              "    .dataframe tbody tr th {\n",
              "        vertical-align: top;\n",
              "    }\n",
              "\n",
              "    .dataframe thead th {\n",
              "        text-align: right;\n",
              "    }\n",
              "</style>\n",
              "<table border=\"1\" class=\"dataframe\">\n",
              "  <thead>\n",
              "    <tr style=\"text-align: right;\">\n",
              "      <th></th>\n",
              "      <th>SepalLength</th>\n",
              "      <th>SepalWidth</th>\n",
              "      <th>PetalLength</th>\n",
              "      <th>PetalWidth</th>\n",
              "    </tr>\n",
              "    <tr>\n",
              "      <th>Name</th>\n",
              "      <th></th>\n",
              "      <th></th>\n",
              "      <th></th>\n",
              "      <th></th>\n",
              "    </tr>\n",
              "  </thead>\n",
              "  <tbody>\n",
              "    <tr>\n",
              "      <th>Iris-setosa</th>\n",
              "      <td>5.006</td>\n",
              "      <td>3.418</td>\n",
              "      <td>1.464</td>\n",
              "      <td>0.244</td>\n",
              "    </tr>\n",
              "    <tr>\n",
              "      <th>Iris-versicolor</th>\n",
              "      <td>5.936</td>\n",
              "      <td>2.770</td>\n",
              "      <td>4.260</td>\n",
              "      <td>1.326</td>\n",
              "    </tr>\n",
              "    <tr>\n",
              "      <th>Iris-virginica</th>\n",
              "      <td>6.588</td>\n",
              "      <td>2.974</td>\n",
              "      <td>5.552</td>\n",
              "      <td>2.026</td>\n",
              "    </tr>\n",
              "  </tbody>\n",
              "</table>\n",
              "</div>\n",
              "      <button class=\"colab-df-convert\" onclick=\"convertToInteractive('df-01e606a0-88b3-4bf3-bcc8-c7127516ee98')\"\n",
              "              title=\"Convert this dataframe to an interactive table.\"\n",
              "              style=\"display:none;\">\n",
              "        \n",
              "  <svg xmlns=\"http://www.w3.org/2000/svg\" height=\"24px\"viewBox=\"0 0 24 24\"\n",
              "       width=\"24px\">\n",
              "    <path d=\"M0 0h24v24H0V0z\" fill=\"none\"/>\n",
              "    <path d=\"M18.56 5.44l.94 2.06.94-2.06 2.06-.94-2.06-.94-.94-2.06-.94 2.06-2.06.94zm-11 1L8.5 8.5l.94-2.06 2.06-.94-2.06-.94L8.5 2.5l-.94 2.06-2.06.94zm10 10l.94 2.06.94-2.06 2.06-.94-2.06-.94-.94-2.06-.94 2.06-2.06.94z\"/><path d=\"M17.41 7.96l-1.37-1.37c-.4-.4-.92-.59-1.43-.59-.52 0-1.04.2-1.43.59L10.3 9.45l-7.72 7.72c-.78.78-.78 2.05 0 2.83L4 21.41c.39.39.9.59 1.41.59.51 0 1.02-.2 1.41-.59l7.78-7.78 2.81-2.81c.8-.78.8-2.07 0-2.86zM5.41 20L4 18.59l7.72-7.72 1.47 1.35L5.41 20z\"/>\n",
              "  </svg>\n",
              "      </button>\n",
              "      \n",
              "  <style>\n",
              "    .colab-df-container {\n",
              "      display:flex;\n",
              "      flex-wrap:wrap;\n",
              "      gap: 12px;\n",
              "    }\n",
              "\n",
              "    .colab-df-convert {\n",
              "      background-color: #E8F0FE;\n",
              "      border: none;\n",
              "      border-radius: 50%;\n",
              "      cursor: pointer;\n",
              "      display: none;\n",
              "      fill: #1967D2;\n",
              "      height: 32px;\n",
              "      padding: 0 0 0 0;\n",
              "      width: 32px;\n",
              "    }\n",
              "\n",
              "    .colab-df-convert:hover {\n",
              "      background-color: #E2EBFA;\n",
              "      box-shadow: 0px 1px 2px rgba(60, 64, 67, 0.3), 0px 1px 3px 1px rgba(60, 64, 67, 0.15);\n",
              "      fill: #174EA6;\n",
              "    }\n",
              "\n",
              "    [theme=dark] .colab-df-convert {\n",
              "      background-color: #3B4455;\n",
              "      fill: #D2E3FC;\n",
              "    }\n",
              "\n",
              "    [theme=dark] .colab-df-convert:hover {\n",
              "      background-color: #434B5C;\n",
              "      box-shadow: 0px 1px 3px 1px rgba(0, 0, 0, 0.15);\n",
              "      filter: drop-shadow(0px 1px 2px rgba(0, 0, 0, 0.3));\n",
              "      fill: #FFFFFF;\n",
              "    }\n",
              "  </style>\n",
              "\n",
              "      <script>\n",
              "        const buttonEl =\n",
              "          document.querySelector('#df-01e606a0-88b3-4bf3-bcc8-c7127516ee98 button.colab-df-convert');\n",
              "        buttonEl.style.display =\n",
              "          google.colab.kernel.accessAllowed ? 'block' : 'none';\n",
              "\n",
              "        async function convertToInteractive(key) {\n",
              "          const element = document.querySelector('#df-01e606a0-88b3-4bf3-bcc8-c7127516ee98');\n",
              "          const dataTable =\n",
              "            await google.colab.kernel.invokeFunction('convertToInteractive',\n",
              "                                                     [key], {});\n",
              "          if (!dataTable) return;\n",
              "\n",
              "          const docLinkHtml = 'Like what you see? Visit the ' +\n",
              "            '<a target=\"_blank\" href=https://colab.research.google.com/notebooks/data_table.ipynb>data table notebook</a>'\n",
              "            + ' to learn more about interactive tables.';\n",
              "          element.innerHTML = '';\n",
              "          dataTable['output_type'] = 'display_data';\n",
              "          await google.colab.output.renderOutput(dataTable, element);\n",
              "          const docLink = document.createElement('div');\n",
              "          docLink.innerHTML = docLinkHtml;\n",
              "          element.appendChild(docLink);\n",
              "        }\n",
              "      </script>\n",
              "    </div>\n",
              "  </div>\n",
              "  "
            ],
            "text/plain": [
              "                 SepalLength  SepalWidth  PetalLength  PetalWidth\n",
              "Name                                                             \n",
              "Iris-setosa            5.006       3.418        1.464       0.244\n",
              "Iris-versicolor        5.936       2.770        4.260       1.326\n",
              "Iris-virginica         6.588       2.974        5.552       2.026"
            ]
          },
          "metadata": {},
          "execution_count": 18
        }
      ]
    },
    {
      "cell_type": "code",
      "source": [
        "sample_data['PetalLength']"
      ],
      "metadata": {
        "id": "zMdM_BlYX-0A",
        "outputId": "7edfcfb3-20ca-47b7-d282-1a906404699d",
        "colab": {
          "base_uri": "https://localhost:8080/"
        }
      },
      "execution_count": 21,
      "outputs": [
        {
          "output_type": "execute_result",
          "data": {
            "text/plain": [
              "Name\n",
              "Iris-setosa        1.464\n",
              "Iris-versicolor    4.260\n",
              "Iris-virginica     5.552\n",
              "Name: PetalLength, dtype: float64"
            ]
          },
          "metadata": {},
          "execution_count": 21
        }
      ]
    },
    {
      "cell_type": "code",
      "source": [
        "sample_data['PetalLength'][0]"
      ],
      "metadata": {
        "id": "G9pyTqmHYSI9",
        "outputId": "36055468-9dbb-40e3-cb6d-86f0996d5e7a",
        "colab": {
          "base_uri": "https://localhost:8080/"
        }
      },
      "execution_count": 22,
      "outputs": [
        {
          "output_type": "execute_result",
          "data": {
            "text/plain": [
              "1.464"
            ]
          },
          "metadata": {},
          "execution_count": 22
        }
      ]
    },
    {
      "cell_type": "markdown",
      "source": [
        "### เปรียบเทียบปริมาณ 1 ปริมาณของ object หลาย class"
      ],
      "metadata": {
        "id": "J8LuJB3raf4i"
      }
    },
    {
      "cell_type": "code",
      "source": [
        "plt.bar([1,2,3],sample_data['PetalLength'])"
      ],
      "metadata": {
        "id": "pqMGbAf-XnCa",
        "outputId": "4685509e-0019-403d-e90d-9f24ee85f817",
        "colab": {
          "base_uri": "https://localhost:8080/",
          "height": 303
        }
      },
      "execution_count": 23,
      "outputs": [
        {
          "output_type": "execute_result",
          "data": {
            "text/plain": [
              "<BarContainer object of 3 artists>"
            ]
          },
          "metadata": {},
          "execution_count": 23
        },
        {
          "output_type": "display_data",
          "data": {
            "image/png": "[encoded data removed]",
            "text/plain": [
              "<Figure size 432x288 with 1 Axes>"
            ]
          },
          "metadata": {
            "needs_background": "light"
          }
        }
      ]
    },
    {
      "cell_type": "code",
      "source": [
        "sample_data.reset_index()"
      ],
      "metadata": {
        "id": "A-1AE1ppY-dr",
        "outputId": "43ed99d2-e37b-47f3-95f9-1500fd599ead",
        "colab": {
          "base_uri": "https://localhost:8080/",
          "height": 164
        }
      },
      "execution_count": 27,
      "outputs": [
        {
          "output_type": "execute_result",
          "data": {
            "text/html": [
              "\n",
              "  <div id=\"df-af4b75b5-783e-4702-941b-ff71affa3a90\">\n",
              "    <div class=\"colab-df-container\">\n",
              "      <div>\n",
              "<style scoped>\n",
              "    .dataframe tbody tr th:only-of-type {\n",
              "        vertical-align: middle;\n",
              "    }\n",
              "\n",
              "    .dataframe tbody tr th {\n",
              "        vertical-align: top;\n",
              "    }\n",
              "\n",
              "    .dataframe thead th {\n",
              "        text-align: right;\n",
              "    }\n",
              "</style>\n",
              "<table border=\"1\" class=\"dataframe\">\n",
              "  <thead>\n",
              "    <tr style=\"text-align: right;\">\n",
              "      <th></th>\n",
              "      <th>Name</th>\n",
              "      <th>SepalLength</th>\n",
              "      <th>SepalWidth</th>\n",
              "      <th>PetalLength</th>\n",
              "      <th>PetalWidth</th>\n",
              "    </tr>\n",
              "  </thead>\n",
              "  <tbody>\n",
              "    <tr>\n",
              "      <th>0</th>\n",
              "      <td>Iris-setosa</td>\n",
              "      <td>5.006</td>\n",
              "      <td>3.418</td>\n",
              "      <td>1.464</td>\n",
              "      <td>0.244</td>\n",
              "    </tr>\n",
              "    <tr>\n",
              "      <th>1</th>\n",
              "      <td>Iris-versicolor</td>\n",
              "      <td>5.936</td>\n",
              "      <td>2.770</td>\n",
              "      <td>4.260</td>\n",
              "      <td>1.326</td>\n",
              "    </tr>\n",
              "    <tr>\n",
              "      <th>2</th>\n",
              "      <td>Iris-virginica</td>\n",
              "      <td>6.588</td>\n",
              "      <td>2.974</td>\n",
              "      <td>5.552</td>\n",
              "      <td>2.026</td>\n",
              "    </tr>\n",
              "  </tbody>\n",
              "</table>\n",
              "</div>\n",
              "      <button class=\"colab-df-convert\" onclick=\"convertToInteractive('df-af4b75b5-783e-4702-941b-ff71affa3a90')\"\n",
              "              title=\"Convert this dataframe to an interactive table.\"\n",
              "              style=\"display:none;\">\n",
              "        \n",
              "  <svg xmlns=\"http://www.w3.org/2000/svg\" height=\"24px\"viewBox=\"0 0 24 24\"\n",
              "       width=\"24px\">\n",
              "    <path d=\"M0 0h24v24H0V0z\" fill=\"none\"/>\n",
              "    <path d=\"M18.56 5.44l.94 2.06.94-2.06 2.06-.94-2.06-.94-.94-2.06-.94 2.06-2.06.94zm-11 1L8.5 8.5l.94-2.06 2.06-.94-2.06-.94L8.5 2.5l-.94 2.06-2.06.94zm10 10l.94 2.06.94-2.06 2.06-.94-2.06-.94-.94-2.06-.94 2.06-2.06.94z\"/><path d=\"M17.41 7.96l-1.37-1.37c-.4-.4-.92-.59-1.43-.59-.52 0-1.04.2-1.43.59L10.3 9.45l-7.72 7.72c-.78.78-.78 2.05 0 2.83L4 21.41c.39.39.9.59 1.41.59.51 0 1.02-.2 1.41-.59l7.78-7.78 2.81-2.81c.8-.78.8-2.07 0-2.86zM5.41 20L4 18.59l7.72-7.72 1.47 1.35L5.41 20z\"/>\n",
              "  </svg>\n",
              "      </button>\n",
              "      \n",
              "  <style>\n",
              "    .colab-df-container {\n",
              "      display:flex;\n",
              "      flex-wrap:wrap;\n",
              "      gap: 12px;\n",
              "    }\n",
              "\n",
              "    .colab-df-convert {\n",
              "      background-color: #E8F0FE;\n",
              "      border: none;\n",
              "      border-radius: 50%;\n",
              "      cursor: pointer;\n",
              "      display: none;\n",
              "      fill: #1967D2;\n",
              "      height: 32px;\n",
              "      padding: 0 0 0 0;\n",
              "      width: 32px;\n",
              "    }\n",
              "\n",
              "    .colab-df-convert:hover {\n",
              "      background-color: #E2EBFA;\n",
              "      box-shadow: 0px 1px 2px rgba(60, 64, 67, 0.3), 0px 1px 3px 1px rgba(60, 64, 67, 0.15);\n",
              "      fill: #174EA6;\n",
              "    }\n",
              "\n",
              "    [theme=dark] .colab-df-convert {\n",
              "      background-color: #3B4455;\n",
              "      fill: #D2E3FC;\n",
              "    }\n",
              "\n",
              "    [theme=dark] .colab-df-convert:hover {\n",
              "      background-color: #434B5C;\n",
              "      box-shadow: 0px 1px 3px 1px rgba(0, 0, 0, 0.15);\n",
              "      filter: drop-shadow(0px 1px 2px rgba(0, 0, 0, 0.3));\n",
              "      fill: #FFFFFF;\n",
              "    }\n",
              "  </style>\n",
              "\n",
              "      <script>\n",
              "        const buttonEl =\n",
              "          document.querySelector('#df-af4b75b5-783e-4702-941b-ff71affa3a90 button.colab-df-convert');\n",
              "        buttonEl.style.display =\n",
              "          google.colab.kernel.accessAllowed ? 'block' : 'none';\n",
              "\n",
              "        async function convertToInteractive(key) {\n",
              "          const element = document.querySelector('#df-af4b75b5-783e-4702-941b-ff71affa3a90');\n",
              "          const dataTable =\n",
              "            await google.colab.kernel.invokeFunction('convertToInteractive',\n",
              "                                                     [key], {});\n",
              "          if (!dataTable) return;\n",
              "\n",
              "          const docLinkHtml = 'Like what you see? Visit the ' +\n",
              "            '<a target=\"_blank\" href=https://colab.research.google.com/notebooks/data_table.ipynb>data table notebook</a>'\n",
              "            + ' to learn more about interactive tables.';\n",
              "          element.innerHTML = '';\n",
              "          dataTable['output_type'] = 'display_data';\n",
              "          await google.colab.output.renderOutput(dataTable, element);\n",
              "          const docLink = document.createElement('div');\n",
              "          docLink.innerHTML = docLinkHtml;\n",
              "          element.appendChild(docLink);\n",
              "        }\n",
              "      </script>\n",
              "    </div>\n",
              "  </div>\n",
              "  "
            ],
            "text/plain": [
              "              Name  SepalLength  SepalWidth  PetalLength  PetalWidth\n",
              "0      Iris-setosa        5.006       3.418        1.464       0.244\n",
              "1  Iris-versicolor        5.936       2.770        4.260       1.326\n",
              "2   Iris-virginica        6.588       2.974        5.552       2.026"
            ]
          },
          "metadata": {},
          "execution_count": 27
        }
      ]
    },
    {
      "cell_type": "code",
      "source": [
        "sample_data.reset_index()['Name']"
      ],
      "metadata": {
        "id": "kmc5FOtxYuT2",
        "outputId": "e31fd168-bf16-44b4-cb41-150e446d8d6e",
        "colab": {
          "base_uri": "https://localhost:8080/"
        }
      },
      "execution_count": 26,
      "outputs": [
        {
          "output_type": "execute_result",
          "data": {
            "text/plain": [
              "0        Iris-setosa\n",
              "1    Iris-versicolor\n",
              "2     Iris-virginica\n",
              "Name: Name, dtype: object"
            ]
          },
          "metadata": {},
          "execution_count": 26
        }
      ]
    },
    {
      "cell_type": "code",
      "source": [
        "plt.bar([1,2,3],sample_data['PetalLength'])\n",
        "plt.xticks([1,2,3], sample_data.reset_index()['Name'], rotation='vertical')\n",
        "plt.title('Comparison between average petal length of 3 iris flowers')\n",
        "plt.ylabel('size (cm)');"
      ],
      "metadata": {
        "id": "LoOk5RlRYeDg",
        "outputId": "8298ab1c-d94e-43a1-b5f3-7055d300afc8",
        "colab": {
          "base_uri": "https://localhost:8080/",
          "height": 360
        }
      },
      "execution_count": 29,
      "outputs": [
        {
          "output_type": "display_data",
          "data": {
            "image/png": "[encoded data removed]",
            "text/plain": [
              "<Figure size 432x288 with 1 Axes>"
            ]
          },
          "metadata": {
            "needs_background": "light"
          }
        }
      ]
    },
    {
      "cell_type": "code",
      "source": [
        "plt.bar([1,2,3],sample_data['PetalLength'])\n",
        "plt.xticks([1,2,3], sample_data.reset_index()['Name'], rotation='vertical')\n",
        "plt.title('Comparison between average petal length of 3 iris flowers')\n",
        "plt.grid(True,axis='y')\n",
        "plt.ylabel('size (cm)');"
      ],
      "metadata": {
        "id": "5G_-kS9mZFY_",
        "outputId": "307c3cc5-1859-4cf3-f736-e75430b08228",
        "colab": {
          "base_uri": "https://localhost:8080/",
          "height": 360
        }
      },
      "execution_count": 36,
      "outputs": [
        {
          "output_type": "display_data",
          "data": {
            "image/png": "[encoded data removed]",
            "text/plain": [
              "<Figure size 432x288 with 1 Axes>"
            ]
          },
          "metadata": {
            "needs_background": "light"
          }
        }
      ]
    },
    {
      "cell_type": "code",
      "source": [
        "plt.bar([1,2,3],sample_data['PetalLength'],color=['r','g','b'])\n",
        "plt.xticks([1,2,3], sample_data.reset_index()['Name'], rotation='vertical')\n",
        "plt.title('Comparison between average petal length of 3 iris flowers')\n",
        "plt.grid(True)\n",
        "plt.ylabel('size (cm)');"
      ],
      "metadata": {
        "id": "2VQkFvlnZ1HR",
        "outputId": "7d1217d4-22b3-4964-deb0-6478d60fd600",
        "colab": {
          "base_uri": "https://localhost:8080/",
          "height": 360
        }
      },
      "execution_count": 31,
      "outputs": [
        {
          "output_type": "display_data",
          "data": {
            "image/png": "[encoded data removed]",
            "text/plain": [
              "<Figure size 432x288 with 1 Axes>"
            ]
          },
          "metadata": {
            "needs_background": "light"
          }
        }
      ]
    },
    {
      "cell_type": "markdown",
      "source": [
        "### เปรียบเทียบปริมาณ มากกว่า 1 ปริมาณของ object หลาย class"
      ],
      "metadata": {
        "id": "B123t6s2av6B"
      }
    },
    {
      "cell_type": "markdown",
      "source": [
        "![comparing bar.png](data:image/png;base64,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)"
      ],
      "metadata": {
        "id": "-MjKGu0Ui-RA"
      }
    },
    {
      "cell_type": "code",
      "source": [
        "import numpy as np"
      ],
      "metadata": {
        "id": "XHIiY6wtd6XZ"
      },
      "execution_count": 37,
      "outputs": []
    },
    {
      "cell_type": "code",
      "source": [
        "width = 0.2\n",
        "\n",
        "plt.bar([1, 2],[sample_data['PetalLength'][1],sample_data['PetalWidth'][1]],width,color='g',label='versicolor') #ดอกที่ 2 versicolor\n",
        "plt.bar([1-width, 2-width],[sample_data['PetalLength'][0],sample_data['PetalWidth'][0]],width,color='r',label='setosa') #ดอกที่ 1 setosa ขยับซ้าย\n",
        "plt.bar([1+width, 2+width],[sample_data['PetalLength'][2],sample_data['PetalWidth'][2]],width,color='b',label='virginica') #ดอกที่ 1 setosa ขยับซ้าย\n",
        "\n",
        "plt.xticks([1,2], ['Petal Length','Petal Width'])\n",
        "plt.legend();"
      ],
      "metadata": {
        "id": "tJErOR7AaKea",
        "outputId": "3c9756c5-308d-4ef2-ef68-8f8b4cd614a1",
        "colab": {
          "base_uri": "https://localhost:8080/",
          "height": 285
        }
      },
      "execution_count": 42,
      "outputs": [
        {
          "output_type": "display_data",
          "data": {
            "image/png": "[encoded data removed]",
            "text/plain": [
              "<Figure size 432x288 with 1 Axes>"
            ]
          },
          "metadata": {
            "needs_background": "light"
          }
        }
      ]
    },
    {
      "cell_type": "markdown",
      "source": [
        "### การนำปริมาณหลายปริมาณมาซ้อนกัน"
      ],
      "metadata": {
        "id": "UI9hat75iQJz"
      }
    },
    {
      "cell_type": "markdown",
      "source": [
        "![staked bar.png](data:image/png;base64,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)"
      ],
      "metadata": {
        "id": "mdbM7AeKkBqN"
      }
    },
    {
      "cell_type": "code",
      "source": [
        "plt.bar([1,2,3],sample_data['PetalLength'],color='b',label='Petal Length')\n",
        "plt.bar([1,2,3],sample_data['PetalWidth'],bottom=sample_data['PetalLength'],color='r',label='Petal Width')\n",
        "plt.xticks([1,2,3], sample_data.reset_index()['Name'])\n",
        "plt.grid(True,axis='y')\n",
        "plt.legend();"
      ],
      "metadata": {
        "id": "cnHyEsGmg_SE",
        "outputId": "ed4dc085-af78-4e27-a783-e9ab0e691698",
        "colab": {
          "base_uri": "https://localhost:8080/",
          "height": 285
        }
      },
      "execution_count": 47,
      "outputs": [
        {
          "output_type": "display_data",
          "data": {
            "image/png": "[encoded data removed]",
            "text/plain": [
              "<Figure size 432x288 with 1 Axes>"
            ]
          },
          "metadata": {
            "needs_background": "light"
          }
        }
      ]
    },
    {
      "cell_type": "markdown",
      "source": [
        "### Bar chart แบบ ตะแคงข้าง"
      ],
      "metadata": {
        "id": "2FzIZyStmwKX"
      }
    },
    {
      "cell_type": "code",
      "source": [
        "plt.barh([1,2,3],sample_data['PetalLength'],color='b',label='Petal Length')\n",
        "plt.barh([1,2,3],sample_data['PetalWidth'],left=sample_data['PetalLength'],color='r',label='Petal Width')\n",
        "plt.yticks([1,2,3], sample_data.reset_index()['Name'])\n",
        "plt.grid(True,axis='x')\n",
        "plt.legend();"
      ],
      "metadata": {
        "id": "ERBswQewmv5F",
        "outputId": "8aab2034-c5f7-4c29-dc2f-53e49682b2db",
        "colab": {
          "base_uri": "https://localhost:8080/",
          "height": 285
        }
      },
      "execution_count": 48,
      "outputs": [
        {
          "output_type": "display_data",
          "data": {
            "image/png": "[encoded data removed]",
            "text/plain": [
              "<Figure size 432x288 with 1 Axes>"
            ]
          },
          "metadata": {
            "needs_background": "light"
          }
        }
      ]
    },
    {
      "cell_type": "markdown",
      "source": [
        "# HW7 \n",
        "1. plot bar chart เปรียบเทียบ sepal legth, sepal width, petal length, petal width ของ ดอก iris ทั้ง 3 ชนิด\n",
        "\n",
        "2. plot bar chart เพื่อเปรียบเทียบขนาดโดยรวมของ ดอก iris 3 ชนิด โดยดูจาก sepal legth, sepal width, petal length, และ petal width\n"
      ],
      "metadata": {
        "id": "DlIkzqWDlrMd"
      }
    },
    {
      "cell_type": "markdown",
      "source": [
        "# Histogram\n",
        "\n",
        "แสดงความถี่ของข้อมูล"
      ],
      "metadata": {
        "id": "gdcYw2xpoRhQ"
      }
    },
    {
      "cell_type": "code",
      "source": [
        "np.random.seed(2022)\n",
        "\n",
        "X = np.random.randint(1,101,10000)"
      ],
      "metadata": {
        "id": "W_qebf98kjPp"
      },
      "execution_count": 55,
      "outputs": []
    },
    {
      "cell_type": "code",
      "source": [
        "X"
      ],
      "metadata": {
        "id": "y-sVUoNHpiY2",
        "outputId": "c90a1cb9-b661-4dc0-b4b7-90f90ee896ed",
        "colab": {
          "base_uri": "https://localhost:8080/"
        }
      },
      "execution_count": 56,
      "outputs": [
        {
          "output_type": "execute_result",
          "data": {
            "text/plain": [
              "array([93, 46, 50, ..., 64,  7, 46])"
            ]
          },
          "metadata": {},
          "execution_count": 56
        }
      ]
    },
    {
      "cell_type": "code",
      "source": [
        "histout = plt.hist(X)"
      ],
      "metadata": {
        "id": "uoj7EWB6pjLK",
        "outputId": "83eef5b2-6584-4630-9284-b963065ec29c",
        "colab": {
          "base_uri": "https://localhost:8080/",
          "height": 285
        }
      },
      "execution_count": 57,
      "outputs": [
        {
          "output_type": "display_data",
          "data": {
            "image/png": "[encoded data removed]",
            "text/plain": [
              "<Figure size 432x288 with 1 Axes>"
            ]
          },
          "metadata": {
            "needs_background": "light"
          }
        }
      ]
    },
    {
      "cell_type": "code",
      "source": [
        "histout"
      ],
      "metadata": {
        "id": "jfctZRIDp-Nd",
        "outputId": "5695c938-9351-4166-c2c3-e443c1291f06",
        "colab": {
          "base_uri": "https://localhost:8080/"
        }
      },
      "execution_count": 58,
      "outputs": [
        {
          "output_type": "execute_result",
          "data": {
            "text/plain": [
              "(array([1020., 1033.,  963.,  988., 1018.,  990., 1010., 1012.,  992.,\n",
              "         974.]),\n",
              " array([  1. ,  10.9,  20.8,  30.7,  40.6,  50.5,  60.4,  70.3,  80.2,\n",
              "         90.1, 100. ]),\n",
              " <a list of 10 Patch objects>)"
            ]
          },
          "metadata": {},
          "execution_count": 58
        }
      ]
    },
    {
      "cell_type": "code",
      "source": [
        "histout[0]"
      ],
      "metadata": {
        "id": "Qv38e8EmrRZD",
        "outputId": "e0199dae-6191-4b81-fbfd-4098b68a92ef",
        "colab": {
          "base_uri": "https://localhost:8080/"
        }
      },
      "execution_count": 59,
      "outputs": [
        {
          "output_type": "execute_result",
          "data": {
            "text/plain": [
              "array([1020., 1033.,  963.,  988., 1018.,  990., 1010., 1012.,  992.,\n",
              "        974.])"
            ]
          },
          "metadata": {},
          "execution_count": 59
        }
      ]
    },
    {
      "cell_type": "code",
      "source": [
        "histout[1]"
      ],
      "metadata": {
        "id": "WXwwTD_Xrc1y",
        "outputId": "f4950078-5c3b-432d-9613-609e0ef30e66",
        "colab": {
          "base_uri": "https://localhost:8080/"
        }
      },
      "execution_count": 61,
      "outputs": [
        {
          "output_type": "execute_result",
          "data": {
            "text/plain": [
              "array([  1. ,  10.9,  20.8,  30.7,  40.6,  50.5,  60.4,  70.3,  80.2,\n",
              "        90.1, 100. ])"
            ]
          },
          "metadata": {},
          "execution_count": 61
        }
      ]
    },
    {
      "cell_type": "code",
      "source": [
        ""
      ],
      "metadata": {
        "id": "JBaSXoFnr0C3"
      },
      "execution_count": null,
      "outputs": []
    }
  ]
}